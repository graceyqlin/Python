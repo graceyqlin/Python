{
 "cells": [
  {
   "cell_type": "markdown",
   "metadata": {},
   "source": [
    "## Week 12 Assignment - W200 Python Fundamentals for Data Science, UC Berkeley MIDS\n",
    "\n",
    "Write code in this Jupyter Notebook to solve the following problems. Please upload this **Notebook** with your solutions to your GitHub repository in your SUBMISSIONS/week_12 folder by 11:59PM PST the night before class."
   ]
  },
  {
   "cell_type": "markdown",
   "metadata": {},
   "source": [
    "This homework assignment is Week 12 which corresponds to the Unit #11 async. If you turn-in anything on ISVC please do so under the Week 12 Assignment category. (Apologies for the confusion)"
   ]
  },
  {
   "cell_type": "markdown",
   "metadata": {},
   "source": [
    "## Objectives\n",
    "\n",
    "- Explore and get insights from a real dataset using pandas\n",
    "- Practice the use of pandas for: exploratory analysis, information gathering and discovery\n",
    "- Use matplotlib for plotting charts from the data"
   ]
  },
  {
   "cell_type": "markdown",
   "metadata": {},
   "source": [
    "## Data files\n",
    "\n",
    "In this assignment you will apply what you are learning to answer questions about campaign contributions in the Democratic presidential primary race. We will use the csv file located here: https://drive.google.com/file/d/1Lgg-PwXQ6TQLDowd6XyBxZw5g1NGWPjB/view?usp=sharing. You will need to download and save the csv in the same folder as this notebook. This file originally came from the U.S. Federal Election Commission (https://www.fec.gov/).\n",
    "\n",
    "** REMEMBER -- DO NOT PUT THIS DATA IN YOUR GITHUB REPO ! **\n",
    "\n",
    "Documentation for this data file can be found here: https://drive.google.com/file/d/11o_SByceenv0NgNMstM-dxC1jL7I9fHL/view?usp=sharing"
   ]
  },
  {
   "cell_type": "markdown",
   "metadata": {},
   "source": [
    "## General Guidelines:\n",
    "\n",
    "- This is a **real** dataset and so it contains errors and other pecularities to work through\n",
    "- The data is ~218mb which will take some time to load (and probably won't load in google sheets or Excel)\n",
    "- If you make assumptions please annotate them in your answer\n",
    "- While we've left one code/markdown cell for you after each question as a placeholder, some of your answers will require multiple cells to fully respond\n",
    "- Double click the markdown cells where it says YOUR ANSWER HERE to enter your written answers; if you need more cells for your written answers, please make them markdown cells (rather than code cells)"
   ]
  },
  {
   "cell_type": "markdown",
   "metadata": {},
   "source": [
    "## Setup\n",
    "\n",
    "First, run the two cells below. \n",
    "\n",
    "The first cell will load in the data to a pandas dataframe named 'contrib'. Note we define a custom date parser to speed up import (we could have Python guess the date format, but this can make the load a lot slower).  \n",
    "\n",
    "The second cell subsets the data to look at the primary period.  Otherwise, we would see general election donations which would make it harder to draw conclusions about the primaries.  We will analyze through May 2016."
   ]
  },
  {
   "cell_type": "code",
   "execution_count": 2,
   "metadata": {},
   "outputs": [
    {
     "name": "stderr",
     "output_type": "stream",
     "text": [
      "C:\\ProgramData\\Anaconda3\\lib\\site-packages\\IPython\\core\\interactiveshell.py:2698: DtypeWarning: Columns (6,11,12) have mixed types. Specify dtype option on import or set low_memory=False.\n",
      "  interactivity=interactivity, compiler=compiler, result=result)\n"
     ]
    }
   ],
   "source": [
    "# import the data\n",
    "import pandas as pd\n",
    "import matplotlib.pyplot as plt\n",
    "\n",
    "pd.options.display.float_format = '{:,.2f}'.format\n",
    "%matplotlib inline\n",
    "\n",
    "# Create date parser to pass to read_csv\n",
    "import datetime\n",
    "d = lambda x: pd.datetime.strptime(x, '%d-%b-%y')\n",
    "\n",
    "contrib = pd.read_csv('P00000001-CA.csv', index_col=False, parse_dates = ['contb_receipt_dt'], date_parser=d)\n",
    "\n",
    "# Note - for now, it is okay to ignore the warning about mixed types.  "
   ]
  },
  {
   "cell_type": "code",
   "execution_count": 3,
   "metadata": {},
   "outputs": [
    {
     "name": "stdout",
     "output_type": "stream",
     "text": [
      "(1125659, 18)\n",
      "(654502, 18)\n"
     ]
    }
   ],
   "source": [
    "# Subset data to primary period \n",
    "print(contrib.shape)\n",
    "\n",
    "contrib = contrib.copy()[contrib['contb_receipt_dt'] <= datetime.datetime(2016, 5, 31)]\n",
    "print(contrib.shape)"
   ]
  },
  {
   "cell_type": "markdown",
   "metadata": {},
   "source": [
    "## 1. Data Exploration\n",
    "\n",
    "**1a.** First, let's take a preliminary look at our data:\n",
    "- Print the *shape* of the data. What does this tell you about the number of variables and rows you have?\n",
    "- Print a list of column names. \n",
    "- Review the documentation for this dataset (linked above). Do you have all of the columns you expect to have?\n",
    "- Sometimes variable names are not clear unless we read the documentation. In your own words, based on the documentation, what information does the \"election_tp\" variable contain?"
   ]
  },
  {
   "cell_type": "code",
   "execution_count": 4,
   "metadata": {
    "deletable": false,
    "nbgrader": {
     "checksum": "9f7a7938e43b14d3c7c49d6a278b0bb1",
     "grade": true,
     "grade_id": "cell-5d017805206f18b1",
     "locked": false,
     "points": 0,
     "schema_version": 1,
     "solution": true
    }
   },
   "outputs": [
    {
     "name": "stdout",
     "output_type": "stream",
     "text": [
      "(654502, 18)\n",
      "Index(['cmte_id', 'cand_id', 'cand_nm', 'contbr_nm', 'contbr_city',\n",
      "       'contbr_st', 'contbr_zip', 'contbr_employer', 'contbr_occupation',\n",
      "       'contb_receipt_amt', 'contb_receipt_dt', 'receipt_desc', 'memo_cd',\n",
      "       'memo_text', 'form_tp', 'file_num', 'tran_id', 'election_tp'],\n",
      "      dtype='object')\n"
     ]
    }
   ],
   "source": [
    "# YOUR CODE HERE\n",
    "print(contrib.shape)\n",
    "print(contrib.columns)"
   ]
  },
  {
   "cell_type": "markdown",
   "metadata": {
    "deletable": false,
    "nbgrader": {
     "checksum": "e6a198453ec4b0171a064fef0bd7c678",
     "grade": true,
     "grade_id": "cell-3bc26919169bf4aa",
     "locked": false,
     "points": 5,
     "schema_version": 1,
     "solution": true
    }
   },
   "source": [
    "- 1a YOUR ANSWER HERE\n",
    "\n",
    "1) we have a toal of 654,502 data records and 18 variables.\n",
    "\n",
    "2) The column names are 'cmte_id', 'cand_id', 'cand_nm', 'contbr_nm', 'contbr_city','contbr_st', 'contbr_zip', 'contbr_employer', 'contbr_occupation', 'contb_receipt_amt', 'contb_receipt_dt', 'receipt_desc', 'memo_cd','memo_text', 'form_tp', 'file_num', 'tran_id', 'election_tp'\n",
    "\n",
    "3) Yes, the data has all of the columns we expect to have. \n",
    "\n",
    "4) \"election_tp\" means election types, which include primary election, such as presidential election, general election, such as state-wide election, etc.\n"
   ]
  },
  {
   "cell_type": "markdown",
   "metadata": {},
   "source": [
    "**1b.** Print out the first 5 rows from the dataset to manually look through some of your data."
   ]
  },
  {
   "cell_type": "code",
   "execution_count": 5,
   "metadata": {
    "deletable": false,
    "nbgrader": {
     "checksum": "4fbf682f1c78b3614832c6f48ecd88c7",
     "grade": true,
     "grade_id": "cell-72bc97601b84f17d",
     "locked": false,
     "points": 5,
     "schema_version": 1,
     "solution": true
    }
   },
   "outputs": [
    {
     "name": "stdout",
     "output_type": "stream",
     "text": [
      "     cmte_id    cand_id                  cand_nm          contbr_nm  \\\n",
      "0  C00575795  P00003392  Clinton, Hillary Rodham         AULL, ANNE   \n",
      "1  C00575795  P00003392  Clinton, Hillary Rodham  CARROLL, MARYJEAN   \n",
      "2  C00575795  P00003392  Clinton, Hillary Rodham   GANDARA, DESIREE   \n",
      "3  C00577130  P60007168         Sanders, Bernard          LEE, ALAN   \n",
      "4  C00577130  P60007168         Sanders, Bernard   LEONELLI, ODETTE   \n",
      "\n",
      "     contbr_city contbr_st     contbr_zip            contbr_employer  \\\n",
      "0       LARKSPUR        CA 949,391,913.00                        NaN   \n",
      "1        CAMBRIA        CA 934,284,638.00                        NaN   \n",
      "2        FONTANA        CA 923,371,507.00                        NaN   \n",
      "3      CAMARILLO        CA 930,111,214.00  AT&T GOVERNMENT SOLUTIONS   \n",
      "4  REDONDO BEACH        CA 902,784,310.00   VERICOR ENTERPRISES INC.   \n",
      "\n",
      "   contbr_occupation  contb_receipt_amt contb_receipt_dt receipt_desc memo_cd  \\\n",
      "0            RETIRED              50.00       2016-04-26          NaN       X   \n",
      "1            RETIRED             200.00       2016-04-20          NaN       X   \n",
      "2            RETIRED               5.00       2016-04-02          NaN       X   \n",
      "3  SOFTWARE ENGINEER              40.00       2016-03-04          NaN     NaN   \n",
      "4         PHARMACIST              35.00       2016-03-05          NaN     NaN   \n",
      "\n",
      "                             memo_text form_tp  file_num      tran_id  \\\n",
      "0               * HILLARY VICTORY FUND    SA18   1091718     C4768722   \n",
      "1               * HILLARY VICTORY FUND    SA18   1091718     C4747242   \n",
      "2               * HILLARY VICTORY FUND    SA18   1091718     C4666603   \n",
      "3  * EARMARKED CONTRIBUTION: SEE BELOW   SA17A   1077404  VPF7BKWA097   \n",
      "4  * EARMARKED CONTRIBUTION: SEE BELOW   SA17A   1077404  VPF7BKX3MB3   \n",
      "\n",
      "  election_tp  \n",
      "0       P2016  \n",
      "1       P2016  \n",
      "2       P2016  \n",
      "3       P2016  \n",
      "4       P2016  \n"
     ]
    }
   ],
   "source": [
    "# YOUR CODE HERE\n",
    "print(contrib.head())"
   ]
  },
  {
   "cell_type": "markdown",
   "metadata": {},
   "source": [
    "**1c.** When working with a new dataset, it is important to explore and sanity check your variables. Pick **three** variables from the dataset above and run some quick sanity checks. For example, you may want to examine the maximum and minimum values, a frequency count, or something else. Use markdown cells to explain if your sanity checks \"pass\" your scrutiny or if you have concerns about the integrity of your data. "
   ]
  },
  {
   "cell_type": "code",
   "execution_count": 6,
   "metadata": {
    "deletable": false,
    "nbgrader": {
     "checksum": "0ec29a2cabd52709322d1cfd650babe7",
     "grade": true,
     "grade_id": "cell-23b51536d24c1645",
     "locked": false,
     "points": 0,
     "schema_version": 1,
     "solution": true
    }
   },
   "outputs": [
    {
     "name": "stdout",
     "output_type": "stream",
     "text": [
      "2016-05-31 00:00:00\n",
      "2013-11-05 00:00:00\n",
      "['P2016' 'G2016' nan 'P2020']\n",
      "          cmte_id    cand_id             cand_nm               contbr_nm  \\\n",
      "588680  C00578757  P60007697  Graham, Lindsey O.            SCHWARZ, DON   \n",
      "588683  C00578757  P60007697  Graham, Lindsey O.            SCHWARZ, DON   \n",
      "589007  C00578757  P60007697  Graham, Lindsey O.             TIROSH, GAL   \n",
      "589238  C00578757  P60007697  Graham, Lindsey O.  SHULTZ, GEORGE P. HON.   \n",
      "589241  C00578757  P60007697  Graham, Lindsey O.           SIMMS, JOSHUA   \n",
      "589245  C00578757  P60007697  Graham, Lindsey O.          CATZ, SAFRA A.   \n",
      "589537  C00578757  P60007697  Graham, Lindsey O.   FRANK, RICHARD H. MR.   \n",
      "\n",
      "          contbr_city contbr_st     contbr_zip         contbr_employer  \\\n",
      "588680   SHERMAN OAKS        CA 914,234,831.00   RBC WEALTH MANAGEMENT   \n",
      "588683   SHERMAN OAKS        CA 914,234,831.00   RBC WEALTH MANAGEMENT   \n",
      "589007      LOS ALTOS        CA 940,231,644.00                 RETIRED   \n",
      "589238       STANFORD        CA 943,056,003.00      HOOVER INSTITUTION   \n",
      "589241  BEVERLY HILLS        CA 902,123,218.00                   SIMMS   \n",
      "589245   REDWOOD CITY        CA 940,651,677.00                  ORACLE   \n",
      "589537  BEVERLY HILLS        CA 902,101,330.00  FRANK FAMILY VINEYARDS   \n",
      "\n",
      "           contbr_occupation  contb_receipt_amt contb_receipt_dt  \\\n",
      "588680     PORTFOLIO MANAGER           1,000.00       2016-01-28   \n",
      "588683     PORTFOLIO MANAGER             500.00       2016-01-28   \n",
      "589007               RETIRED           2,700.00       2016-01-18   \n",
      "589238  DISTINGUISHED FELLOW           2,700.00       2016-01-15   \n",
      "589241             PRINCIPAL           2,700.00       2016-01-16   \n",
      "589245             EXECUTIVE           2,700.00       2016-01-21   \n",
      "589537          WINERY OWNER           2,700.00       2016-01-15   \n",
      "\n",
      "                      receipt_desc memo_cd                   memo_text  \\\n",
      "588680  REDESIGNATION FROM GENERAL       X  REDESIGNATION FROM GENERAL   \n",
      "588683  REDESIGNATION FROM GENERAL       X  REDESIGNATION FROM GENERAL   \n",
      "589007  REDESIGNATION FROM GENERAL       X  REDESIGNATION FROM GENERAL   \n",
      "589238  REDESIGNATION FROM GENERAL       X  REDESIGNATION FROM GENERAL   \n",
      "589241  REDESIGNATION FROM GENERAL       X  REDESIGNATION FROM GENERAL   \n",
      "589245  REDESIGNATION FROM GENERAL       X  REDESIGNATION FROM GENERAL   \n",
      "589537  REDESIGNATION FROM GENERAL       X  REDESIGNATION FROM GENERAL   \n",
      "\n",
      "       form_tp  file_num     tran_id election_tp  \n",
      "588680   SA17A   1051548  SA17.77504       P2020  \n",
      "588683   SA17A   1051548  SA17.77503       P2020  \n",
      "589007   SA17A   1051548  SA17.77456       P2020  \n",
      "589238   SA17A   1051548  SA17.77420       P2020  \n",
      "589241   SA17A   1051548  SA17.77409       P2020  \n",
      "589245   SA17A   1051548  SA17.77473       P2020  \n",
      "589537   SA17A   1051548  SA17.77406       P2020  \n",
      "10800.0\n",
      "-10000.0\n"
     ]
    }
   ],
   "source": [
    "# YOUR CODE HERE\n",
    "#examine dates:\n",
    "print(contrib.contb_receipt_dt.max())\n",
    "print(contrib.contb_receipt_dt.min())\n",
    "\n",
    "#examine election_tp:\n",
    "print(contrib.election_tp.unique())\n",
    "print(contrib[contrib['election_tp']=='P2020'])\n",
    "\n",
    "#examine election receipt amount\n",
    "print(contrib.contb_receipt_amt.max())\n",
    "print(contrib.contb_receipt_amt.min())"
   ]
  },
  {
   "cell_type": "markdown",
   "metadata": {
    "deletable": false,
    "nbgrader": {
     "checksum": "cfa64002e64474584dc1442b5a39b460",
     "grade": true,
     "grade_id": "cell-8a320c2ff7c24d98",
     "locked": false,
     "points": 0,
     "schema_version": 1,
     "solution": true
    }
   },
   "source": [
    "- 1c YOUR ANSWER HERE\n",
    "\n",
    "1) first we can examine the date. The date range for this data set is from 2013 to 2016, which looks reasonable.\n",
    "\n",
    "2) second we can examine the election type. There are only four types of election in this data set. Looks like data before 2016 does not have such election type labels. But there are 7 records which happended in 2016 and labeled incorrectly as P2020, instead of P2016.\n",
    "\n",
    "3) third, we can examine the maximum and minimal of contribution amount.maximun is 10,800, which is reasonable. However, the minimal is -10,000, which does not make sense. We should exclude those records."
   ]
  },
  {
   "cell_type": "markdown",
   "metadata": {},
   "source": [
    "## 2. Exploring Campaign Contributions\n",
    "\n",
    "Let's investigate the donations to the candidates.\n",
    "\n",
    "**2a.** \n",
    "Create a table that shows the total number of donations to each candidate. Hint: use \"groupby\" as shown in async unit 11.07.\n",
    "\n",
    "When presenting data in a table, it is best to sort the data in a meaningful way. This makes it easier for your reader to examine what you've done and to get insights out of your tables. Use \"sort_values\" to sort the data so that candidates with the largest number of donations appear on top. From now on, all tables you present in this assignment (and course) should be sorted.\n",
    "\n",
    "What candidate recieved the largest number of contributions (variable 'contb_receipt_amt')?"
   ]
  },
  {
   "cell_type": "code",
   "execution_count": 38,
   "metadata": {
    "deletable": false,
    "nbgrader": {
     "checksum": "442b24601da06376c43cbe6ef5c5348a",
     "grade": true,
     "grade_id": "cell-6a453219105384dd",
     "locked": false,
     "points": 0,
     "schema_version": 1,
     "solution": true
    }
   },
   "outputs": [
    {
     "name": "stdout",
     "output_type": "stream",
     "text": [
      "cand_nm\n",
      "Sanders, Bernard             371795\n",
      "Clinton, Hillary Rodham      163509\n",
      "Cruz, Rafael Edward 'Ted'     57136\n",
      "Carson, Benjamin S.           27342\n",
      "Rubio, Marco                  14089\n",
      "Fiorina, Carly                 4696\n",
      "Paul, Rand                     4256\n",
      "Bush, Jeb                      3114\n",
      "Kasich, John R.                2988\n",
      "Trump, Donald J.               2255\n",
      "Walker, Scott                   713\n",
      "Huckabee, Mike                  531\n",
      "O'Malley, Martin Joseph         397\n",
      "Lessig, Lawrence                372\n",
      "Graham, Lindsey O.              342\n",
      "Christie, Christopher J.        333\n",
      "Stein, Jill                     197\n",
      "Perry, James R. (Rick)          116\n",
      "Webb, James Henry Jr.           106\n",
      "Santorum, Richard J.             84\n",
      "Johnson, Gary                    77\n",
      "Jindal, Bobby                    31\n",
      "Pataki, George E.                20\n",
      "Gilmore, James S III              3\n",
      "Name: contb_receipt_amt, dtype: int64\n"
     ]
    }
   ],
   "source": [
    "# YOUR CODE HERE\n",
    "cand_don_count = contrib.groupby('cand_nm').contb_receipt_amt.count().sort_values(ascending = False)\n",
    "print(cand_don_count)"
   ]
  },
  {
   "cell_type": "markdown",
   "metadata": {
    "deletable": false,
    "nbgrader": {
     "checksum": "c5a1b7f30648cced7269ccb9b1532bd6",
     "grade": true,
     "grade_id": "cell-90c49bd6471a3dc9",
     "locked": false,
     "points": 0,
     "schema_version": 1,
     "solution": true
    }
   },
   "source": [
    "- 2a YOUR ANSWER HERE\n",
    "\n",
    "Sanders, Bernard is the candidate received the largest number of contributions."
   ]
  },
  {
   "cell_type": "markdown",
   "metadata": {},
   "source": [
    "**2b.** Now, create a table that shows the total **value** of donations to each candidate. What candidate raised the most money in California?"
   ]
  },
  {
   "cell_type": "code",
   "execution_count": 39,
   "metadata": {},
   "outputs": [
    {
     "name": "stdout",
     "output_type": "stream",
     "text": [
      "cand_nm\n",
      "Clinton, Hillary Rodham     39,368,777.01\n",
      "Sanders, Bernard            18,773,871.31\n",
      "Cruz, Rafael Edward 'Ted'    6,286,460.34\n",
      "Rubio, Marco                 4,846,483.72\n",
      "Bush, Jeb                    3,325,536.83\n",
      "Carson, Benjamin S.          2,952,109.00\n",
      "Kasich, John R.              1,553,823.54\n",
      "Fiorina, Carly               1,468,489.42\n",
      "Trump, Donald J.               893,356.89\n",
      "Paul, Rand                     797,624.29\n",
      "Walker, Scott                  495,006.90\n",
      "Christie, Christopher J.       456,066.00\n",
      "Graham, Lindsey O.             408,595.00\n",
      "O'Malley, Martin Joseph        297,834.26\n",
      "Huckabee, Mike                 230,890.60\n",
      "Perry, James R. (Rick)         208,400.00\n",
      "Lessig, Lawrence               186,144.50\n",
      "Webb, James Henry Jr.           76,568.16\n",
      "Johnson, Gary                   41,187.60\n",
      "Santorum, Richard J.            36,304.88\n",
      "Pataki, George E.               30,450.00\n",
      "Stein, Jill                     27,918.00\n",
      "Jindal, Bobby                   23,231.26\n",
      "Gilmore, James S III             8,100.00\n",
      "Name: contb_receipt_amt, dtype: float64\n"
     ]
    }
   ],
   "source": [
    "# YOUR CODE HERE\n",
    "cand_don_sum = contrib.groupby('cand_nm').contb_receipt_amt.sum().sort_values(ascending = False)\n",
    "print(cand_don_sum)"
   ]
  },
  {
   "cell_type": "markdown",
   "metadata": {
    "deletable": false,
    "nbgrader": {
     "checksum": "60d3e303837e9603de5b96e32af7d806",
     "grade": true,
     "grade_id": "cell-447dc63eff8ebc5f",
     "locked": false,
     "points": 0,
     "schema_version": 1,
     "solution": true
    }
   },
   "source": [
    "- 2b YOUR ANSWER HERE\n",
    "\n",
    "Clinton, Hillary Rodham is the candidate raised the most money in California."
   ]
  },
  {
   "cell_type": "markdown",
   "metadata": {},
   "source": [
    "**2c.** Combining your tables\n",
    "- What is the \"type\" of the two tables you printed above? Show if they are Series, or DataFrames.\n",
    "- Convert any Series to pandas DataFrames.\n",
    "- Update the variable (column) names to accurately describe what is shown\n",
    "- Merge together your tables to show the *count* and the *value* of donations to each candidate in one table. Use the \"join\" function."
   ]
  },
  {
   "cell_type": "code",
   "execution_count": 47,
   "metadata": {},
   "outputs": [
    {
     "name": "stdout",
     "output_type": "stream",
     "text": [
      "<class 'pandas.core.series.Series'>\n",
      "<class 'pandas.core.series.Series'>\n",
      "                           Total Number of Donations  Total Value of Donations\n",
      "cand_nm                                                                       \n",
      "Bush, Jeb                                       3114              3,325,536.83\n",
      "Carson, Benjamin S.                            27342              2,952,109.00\n",
      "Christie, Christopher J.                         333                456,066.00\n",
      "Clinton, Hillary Rodham                       163509             39,368,777.01\n",
      "Cruz, Rafael Edward 'Ted'                      57136              6,286,460.34\n",
      "Fiorina, Carly                                  4696              1,468,489.42\n",
      "Gilmore, James S III                               3                  8,100.00\n",
      "Graham, Lindsey O.                               342                408,595.00\n",
      "Huckabee, Mike                                   531                230,890.60\n",
      "Jindal, Bobby                                     31                 23,231.26\n",
      "Johnson, Gary                                     77                 41,187.60\n",
      "Kasich, John R.                                 2988              1,553,823.54\n",
      "Lessig, Lawrence                                 372                186,144.50\n",
      "O'Malley, Martin Joseph                          397                297,834.26\n",
      "Pataki, George E.                                 20                 30,450.00\n",
      "Paul, Rand                                      4256                797,624.29\n",
      "Perry, James R. (Rick)                           116                208,400.00\n",
      "Rubio, Marco                                   14089              4,846,483.72\n",
      "Sanders, Bernard                              371795             18,773,871.31\n",
      "Santorum, Richard J.                              84                 36,304.88\n",
      "Stein, Jill                                      197                 27,918.00\n",
      "Trump, Donald J.                                2255                893,356.89\n",
      "Walker, Scott                                    713                495,006.90\n",
      "Webb, James Henry Jr.                            106                 76,568.16\n"
     ]
    }
   ],
   "source": [
    "# YOUR CODE HERE\n",
    "print(type(cand_don_count))\n",
    "print(type(cand_don_count))\n",
    "\n",
    "df_count = cand_don_count.to_frame()\n",
    "df_count.columns = ['Total Number of Donations']\n",
    "\n",
    "df_sum = cand_don_sum.to_frame()\n",
    "df_sum.columns = ['Total Value of Donations']\n",
    "\n",
    "\n",
    "combined = df_count.join(df_sum, how='outer')\n",
    "\n",
    "print(combined)"
   ]
  },
  {
   "cell_type": "markdown",
   "metadata": {},
   "source": [
    "**2d.** Calculate and add a new variable to your table from **2c** that shows the average $ per donation."
   ]
  },
  {
   "cell_type": "code",
   "execution_count": 50,
   "metadata": {},
   "outputs": [
    {
     "data": {
      "text/html": [
       "<div>\n",
       "<style>\n",
       "    .dataframe thead tr:only-child th {\n",
       "        text-align: right;\n",
       "    }\n",
       "\n",
       "    .dataframe thead th {\n",
       "        text-align: left;\n",
       "    }\n",
       "\n",
       "    .dataframe tbody tr th {\n",
       "        vertical-align: top;\n",
       "    }\n",
       "</style>\n",
       "<table border=\"1\" class=\"dataframe\">\n",
       "  <thead>\n",
       "    <tr style=\"text-align: right;\">\n",
       "      <th></th>\n",
       "      <th>Total Number of Donations</th>\n",
       "      <th>Total Value of Donations</th>\n",
       "      <th>Average Amount Per Donation</th>\n",
       "    </tr>\n",
       "    <tr>\n",
       "      <th>cand_nm</th>\n",
       "      <th></th>\n",
       "      <th></th>\n",
       "      <th></th>\n",
       "    </tr>\n",
       "  </thead>\n",
       "  <tbody>\n",
       "    <tr>\n",
       "      <th>Gilmore, James S III</th>\n",
       "      <td>3</td>\n",
       "      <td>8,100.00</td>\n",
       "      <td>2,700.00</td>\n",
       "    </tr>\n",
       "    <tr>\n",
       "      <th>Perry, James R. (Rick)</th>\n",
       "      <td>116</td>\n",
       "      <td>208,400.00</td>\n",
       "      <td>1,796.55</td>\n",
       "    </tr>\n",
       "    <tr>\n",
       "      <th>Pataki, George E.</th>\n",
       "      <td>20</td>\n",
       "      <td>30,450.00</td>\n",
       "      <td>1,522.50</td>\n",
       "    </tr>\n",
       "    <tr>\n",
       "      <th>Christie, Christopher J.</th>\n",
       "      <td>333</td>\n",
       "      <td>456,066.00</td>\n",
       "      <td>1,369.57</td>\n",
       "    </tr>\n",
       "    <tr>\n",
       "      <th>Graham, Lindsey O.</th>\n",
       "      <td>342</td>\n",
       "      <td>408,595.00</td>\n",
       "      <td>1,194.72</td>\n",
       "    </tr>\n",
       "    <tr>\n",
       "      <th>Bush, Jeb</th>\n",
       "      <td>3114</td>\n",
       "      <td>3,325,536.83</td>\n",
       "      <td>1,067.93</td>\n",
       "    </tr>\n",
       "    <tr>\n",
       "      <th>O'Malley, Martin Joseph</th>\n",
       "      <td>397</td>\n",
       "      <td>297,834.26</td>\n",
       "      <td>750.21</td>\n",
       "    </tr>\n",
       "    <tr>\n",
       "      <th>Jindal, Bobby</th>\n",
       "      <td>31</td>\n",
       "      <td>23,231.26</td>\n",
       "      <td>749.40</td>\n",
       "    </tr>\n",
       "    <tr>\n",
       "      <th>Webb, James Henry Jr.</th>\n",
       "      <td>106</td>\n",
       "      <td>76,568.16</td>\n",
       "      <td>722.34</td>\n",
       "    </tr>\n",
       "    <tr>\n",
       "      <th>Walker, Scott</th>\n",
       "      <td>713</td>\n",
       "      <td>495,006.90</td>\n",
       "      <td>694.26</td>\n",
       "    </tr>\n",
       "    <tr>\n",
       "      <th>Johnson, Gary</th>\n",
       "      <td>77</td>\n",
       "      <td>41,187.60</td>\n",
       "      <td>534.90</td>\n",
       "    </tr>\n",
       "    <tr>\n",
       "      <th>Kasich, John R.</th>\n",
       "      <td>2988</td>\n",
       "      <td>1,553,823.54</td>\n",
       "      <td>520.02</td>\n",
       "    </tr>\n",
       "    <tr>\n",
       "      <th>Lessig, Lawrence</th>\n",
       "      <td>372</td>\n",
       "      <td>186,144.50</td>\n",
       "      <td>500.39</td>\n",
       "    </tr>\n",
       "    <tr>\n",
       "      <th>Huckabee, Mike</th>\n",
       "      <td>531</td>\n",
       "      <td>230,890.60</td>\n",
       "      <td>434.82</td>\n",
       "    </tr>\n",
       "    <tr>\n",
       "      <th>Santorum, Richard J.</th>\n",
       "      <td>84</td>\n",
       "      <td>36,304.88</td>\n",
       "      <td>432.20</td>\n",
       "    </tr>\n",
       "    <tr>\n",
       "      <th>Trump, Donald J.</th>\n",
       "      <td>2255</td>\n",
       "      <td>893,356.89</td>\n",
       "      <td>396.17</td>\n",
       "    </tr>\n",
       "    <tr>\n",
       "      <th>Rubio, Marco</th>\n",
       "      <td>14089</td>\n",
       "      <td>4,846,483.72</td>\n",
       "      <td>343.99</td>\n",
       "    </tr>\n",
       "    <tr>\n",
       "      <th>Fiorina, Carly</th>\n",
       "      <td>4696</td>\n",
       "      <td>1,468,489.42</td>\n",
       "      <td>312.71</td>\n",
       "    </tr>\n",
       "    <tr>\n",
       "      <th>Clinton, Hillary Rodham</th>\n",
       "      <td>163509</td>\n",
       "      <td>39,368,777.01</td>\n",
       "      <td>240.77</td>\n",
       "    </tr>\n",
       "    <tr>\n",
       "      <th>Paul, Rand</th>\n",
       "      <td>4256</td>\n",
       "      <td>797,624.29</td>\n",
       "      <td>187.41</td>\n",
       "    </tr>\n",
       "    <tr>\n",
       "      <th>Stein, Jill</th>\n",
       "      <td>197</td>\n",
       "      <td>27,918.00</td>\n",
       "      <td>141.72</td>\n",
       "    </tr>\n",
       "    <tr>\n",
       "      <th>Cruz, Rafael Edward 'Ted'</th>\n",
       "      <td>57136</td>\n",
       "      <td>6,286,460.34</td>\n",
       "      <td>110.03</td>\n",
       "    </tr>\n",
       "    <tr>\n",
       "      <th>Carson, Benjamin S.</th>\n",
       "      <td>27342</td>\n",
       "      <td>2,952,109.00</td>\n",
       "      <td>107.97</td>\n",
       "    </tr>\n",
       "    <tr>\n",
       "      <th>Sanders, Bernard</th>\n",
       "      <td>371795</td>\n",
       "      <td>18,773,871.31</td>\n",
       "      <td>50.50</td>\n",
       "    </tr>\n",
       "  </tbody>\n",
       "</table>\n",
       "</div>"
      ],
      "text/plain": [
       "                           Total Number of Donations  \\\n",
       "cand_nm                                                \n",
       "Gilmore, James S III                               3   \n",
       "Perry, James R. (Rick)                           116   \n",
       "Pataki, George E.                                 20   \n",
       "Christie, Christopher J.                         333   \n",
       "Graham, Lindsey O.                               342   \n",
       "Bush, Jeb                                       3114   \n",
       "O'Malley, Martin Joseph                          397   \n",
       "Jindal, Bobby                                     31   \n",
       "Webb, James Henry Jr.                            106   \n",
       "Walker, Scott                                    713   \n",
       "Johnson, Gary                                     77   \n",
       "Kasich, John R.                                 2988   \n",
       "Lessig, Lawrence                                 372   \n",
       "Huckabee, Mike                                   531   \n",
       "Santorum, Richard J.                              84   \n",
       "Trump, Donald J.                                2255   \n",
       "Rubio, Marco                                   14089   \n",
       "Fiorina, Carly                                  4696   \n",
       "Clinton, Hillary Rodham                       163509   \n",
       "Paul, Rand                                      4256   \n",
       "Stein, Jill                                      197   \n",
       "Cruz, Rafael Edward 'Ted'                      57136   \n",
       "Carson, Benjamin S.                            27342   \n",
       "Sanders, Bernard                              371795   \n",
       "\n",
       "                           Total Value of Donations  \\\n",
       "cand_nm                                               \n",
       "Gilmore, James S III                       8,100.00   \n",
       "Perry, James R. (Rick)                   208,400.00   \n",
       "Pataki, George E.                         30,450.00   \n",
       "Christie, Christopher J.                 456,066.00   \n",
       "Graham, Lindsey O.                       408,595.00   \n",
       "Bush, Jeb                              3,325,536.83   \n",
       "O'Malley, Martin Joseph                  297,834.26   \n",
       "Jindal, Bobby                             23,231.26   \n",
       "Webb, James Henry Jr.                     76,568.16   \n",
       "Walker, Scott                            495,006.90   \n",
       "Johnson, Gary                             41,187.60   \n",
       "Kasich, John R.                        1,553,823.54   \n",
       "Lessig, Lawrence                         186,144.50   \n",
       "Huckabee, Mike                           230,890.60   \n",
       "Santorum, Richard J.                      36,304.88   \n",
       "Trump, Donald J.                         893,356.89   \n",
       "Rubio, Marco                           4,846,483.72   \n",
       "Fiorina, Carly                         1,468,489.42   \n",
       "Clinton, Hillary Rodham               39,368,777.01   \n",
       "Paul, Rand                               797,624.29   \n",
       "Stein, Jill                               27,918.00   \n",
       "Cruz, Rafael Edward 'Ted'              6,286,460.34   \n",
       "Carson, Benjamin S.                    2,952,109.00   \n",
       "Sanders, Bernard                      18,773,871.31   \n",
       "\n",
       "                           Average Amount Per Donation  \n",
       "cand_nm                                                 \n",
       "Gilmore, James S III                          2,700.00  \n",
       "Perry, James R. (Rick)                        1,796.55  \n",
       "Pataki, George E.                             1,522.50  \n",
       "Christie, Christopher J.                      1,369.57  \n",
       "Graham, Lindsey O.                            1,194.72  \n",
       "Bush, Jeb                                     1,067.93  \n",
       "O'Malley, Martin Joseph                         750.21  \n",
       "Jindal, Bobby                                   749.40  \n",
       "Webb, James Henry Jr.                           722.34  \n",
       "Walker, Scott                                   694.26  \n",
       "Johnson, Gary                                   534.90  \n",
       "Kasich, John R.                                 520.02  \n",
       "Lessig, Lawrence                                500.39  \n",
       "Huckabee, Mike                                  434.82  \n",
       "Santorum, Richard J.                            432.20  \n",
       "Trump, Donald J.                                396.17  \n",
       "Rubio, Marco                                    343.99  \n",
       "Fiorina, Carly                                  312.71  \n",
       "Clinton, Hillary Rodham                         240.77  \n",
       "Paul, Rand                                      187.41  \n",
       "Stein, Jill                                     141.72  \n",
       "Cruz, Rafael Edward 'Ted'                       110.03  \n",
       "Carson, Benjamin S.                             107.97  \n",
       "Sanders, Bernard                                 50.50  "
      ]
     },
     "execution_count": 50,
     "metadata": {},
     "output_type": "execute_result"
    }
   ],
   "source": [
    "# YOUR CODE HERE\n",
    "combined['Average Amount Per Donation'] = combined['Total Value of Donations'] / combined['Total Number of Donations']\n",
    "combined.sort_values(by = 'Average Amount Per Donation', ascending = False)"
   ]
  },
  {
   "cell_type": "markdown",
   "metadata": {},
   "source": [
    "**2e.** There are several interesting conclusions you can draw from the table you have created. Please comment on the results of your data analysis in a short paragraph. What have you learned about campaign contributions in California?"
   ]
  },
  {
   "cell_type": "markdown",
   "metadata": {},
   "source": [
    "- 2e YOUR ANSWER HERE\n",
    "\n",
    "Sanders has the highest donation counts but lower total amount and even lower average donation amount, indicating most of his supporters may be low-income families.\n",
    "\n",
    "Hilary raised the most money but lower on average amount per donation. Maybe most of her supporters are middle-class families.\n",
    "\n",
    "Gilmore supporters are willing to donate more but only 3 supporters."
   ]
  },
  {
   "cell_type": "markdown",
   "metadata": {},
   "source": [
    "## 3. Exploring Donor Occupation\n",
    "\n",
    "Above in part 2, we saw that some simple data analysis can give us insights into the campaign of our candidates. Now let's quickly look to see what *kind* of person is donating to each campaign using the \"contbr_occupation\" variable."
   ]
  },
  {
   "cell_type": "markdown",
   "metadata": {},
   "source": [
    "**3a.** Subset your data to create a data frame with only donations for Hillary Clinton. Then use value_counts() and head() to display the top 5 occupations (contbr_occupation) for her donors. Note: we are just interested in the count of donations, not the value of those donations."
   ]
  },
  {
   "cell_type": "code",
   "execution_count": 59,
   "metadata": {
    "deletable": false,
    "nbgrader": {
     "checksum": "20a71229316bf24a2ce62c52f72d8142",
     "grade": true,
     "grade_id": "cell-963603c5ed346a99",
     "locked": false,
     "points": 0,
     "schema_version": 1,
     "solution": true
    }
   },
   "outputs": [
    {
     "data": {
      "text/plain": [
       "contbr_occupation\n",
       "RETIRED                  33450\n",
       "ATTORNEY                  7315\n",
       "INFORMATION REQUESTED     4742\n",
       "TEACHER                   3591\n",
       "HOMEMAKER                 3436\n",
       "Name: cmte_id, dtype: int64"
      ]
     },
     "execution_count": 59,
     "metadata": {},
     "output_type": "execute_result"
    }
   ],
   "source": [
    "# YOUR CODE HERE\n",
    "clinton = contrib[contrib.cand_nm == 'Clinton, Hillary Rodham']\n",
    "clinton_occupation = clinton.groupby('contbr_occupation').cmte_id.count().sort_values(ascending = False)\n",
    "clinton_occupation.head()"
   ]
  },
  {
   "cell_type": "markdown",
   "metadata": {
    "deletable": false,
    "nbgrader": {
     "checksum": "426b589a9d6457f38381eb1c77678d4f",
     "grade": true,
     "grade_id": "cell-b6fc3f7c906c95a2",
     "locked": false,
     "points": 0,
     "schema_version": 1,
     "solution": true
    }
   },
   "source": [
    "**3b.** Imagine that you want to do the previous operation on several candidates.  To keep your work neat, you want to take the work you did on the Clinton-subset and wrap it in a function that you can apply to other subsets of the data.  Specifically, write a function called get_donors() that takes a DataFrame as input, and outputs a Series containing the counts for the top 5 occupations contained in that DataFrame."
   ]
  },
  {
   "cell_type": "code",
   "execution_count": 84,
   "metadata": {
    "collapsed": true,
    "deletable": false,
    "nbgrader": {
     "checksum": "81ebf2a2f96961b4464f6c35d2143427",
     "grade": true,
     "grade_id": "cell-bea2cf7a6fff8565",
     "locked": false,
     "points": 0,
     "schema_version": 1,
     "solution": true
    }
   },
   "outputs": [],
   "source": [
    "def get_donors(df_sub):\n",
    "    \"\"\"This function takes a dataframe that contains a variable named contbr_occupation.\n",
    "    It outputs a Series containing the counts for the 5 most common values of that\n",
    "    variable.\"\"\"\n",
    "    \n",
    "    df_sub_occupation = df_sub.groupby('contbr_occupation').cmte_id.count().sort_values(ascending = False)\n",
    "    result = df_sub_occupation.head()\n",
    "    \n",
    "    print(result)\n",
    "    print('==============================')\n",
    "    \n",
    "    # YOUR CODE HERE"
   ]
  },
  {
   "cell_type": "markdown",
   "metadata": {},
   "source": [
    "**3c.** Now try running your function on subsets of the dataframe corresponding to three candidates:\n",
    "    1. Hillary Clinton\n",
    "    2. Bernie Sanders\n",
    "    3. Donald Trump"
   ]
  },
  {
   "cell_type": "code",
   "execution_count": 86,
   "metadata": {
    "deletable": false,
    "nbgrader": {
     "checksum": "bffd2778d22127102347386bfb6f5b20",
     "grade": true,
     "grade_id": "cell-4ad1da24176f0450",
     "locked": false,
     "points": 0,
     "schema_version": 1,
     "solution": true
    }
   },
   "outputs": [
    {
     "name": "stdout",
     "output_type": "stream",
     "text": [
      "contbr_occupation\n",
      "RETIRED                  33450\n",
      "ATTORNEY                  7315\n",
      "INFORMATION REQUESTED     4742\n",
      "TEACHER                   3591\n",
      "HOMEMAKER                 3436\n",
      "Name: cmte_id, dtype: int64\n",
      "==============================\n",
      "contbr_occupation\n",
      "NOT EMPLOYED         96371\n",
      "RETIRED              15048\n",
      "TEACHER              10167\n",
      "SOFTWARE ENGINEER     7861\n",
      "ENGINEER              7094\n",
      "Name: cmte_id, dtype: int64\n",
      "==============================\n",
      "contbr_occupation\n",
      "RETIRED                  849\n",
      "INFORMATION REQUESTED     70\n",
      "CEO                       57\n",
      "OWNER                     51\n",
      "PRESIDENT                 35\n",
      "Name: cmte_id, dtype: int64\n",
      "==============================\n"
     ]
    }
   ],
   "source": [
    "# YOUR CODE HERE\n",
    "clinton = contrib[contrib.cand_nm == 'Clinton, Hillary Rodham']\n",
    "sanders = contrib[contrib.cand_nm == 'Sanders, Bernard']\n",
    "trump = contrib[contrib.cand_nm == 'Trump, Donald J.']\n",
    "\n",
    "get_donors(clinton)\n",
    "\n",
    "get_donors(sanders)\n",
    "\n",
    "get_donors(trump)"
   ]
  },
  {
   "cell_type": "markdown",
   "metadata": {},
   "source": [
    "**3d.** Finally, use a groupby to divide the entire dataset by candidate.  Call .apply(get_donors) on your groupby object, which will apply the function you wrote to each subset of your data.  Look at your output and marvel at what Pandas can do in just one line!"
   ]
  },
  {
   "cell_type": "code",
   "execution_count": 88,
   "metadata": {},
   "outputs": [
    {
     "name": "stdout",
     "output_type": "stream",
     "text": [
      "contbr_occupation\n",
      "RETIRED      996\n",
      "HOMEMAKER    180\n",
      "ATTORNEY      92\n",
      "Q.A.          89\n",
      "PRESIDENT     84\n",
      "Name: cmte_id, dtype: int64\n",
      "==============================\n",
      "contbr_occupation\n",
      "RETIRED      996\n",
      "HOMEMAKER    180\n",
      "ATTORNEY      92\n",
      "Q.A.          89\n",
      "PRESIDENT     84\n",
      "Name: cmte_id, dtype: int64\n",
      "==============================\n",
      "contbr_occupation\n",
      "RETIRED                                   13692\n",
      "INFORMATION REQUESTED PER BEST EFFORTS     1614\n",
      "HOMEMAKER                                  1049\n",
      "PHYSICIAN                                   329\n",
      "R.N.                                        234\n",
      "Name: cmte_id, dtype: int64\n",
      "==============================\n",
      "contbr_occupation\n",
      "RETIRED       38\n",
      "NONE          22\n",
      "CONSULTANT    18\n",
      "CEO           16\n",
      "HOMEMAKER     15\n",
      "Name: cmte_id, dtype: int64\n",
      "==============================\n",
      "contbr_occupation\n",
      "RETIRED                  33450\n",
      "ATTORNEY                  7315\n",
      "INFORMATION REQUESTED     4742\n",
      "TEACHER                   3591\n",
      "HOMEMAKER                 3436\n",
      "Name: cmte_id, dtype: int64\n",
      "==============================\n",
      "contbr_occupation\n",
      "RETIRED                                   22956\n",
      "INFORMATION REQUESTED PER BEST EFFORTS     1651\n",
      "HOMEMAKER                                  1261\n",
      "ENGINEER                                   1080\n",
      "TEACHER                                     838\n",
      "Name: cmte_id, dtype: int64\n",
      "==============================\n",
      "contbr_occupation\n",
      "RETIRED                                   1971\n",
      "HOMEMAKER                                  169\n",
      "ATTORNEY                                   140\n",
      "INFORMATION REQUESTED PER BEST EFFORTS      95\n",
      "INVESTOR                                    64\n",
      "Name: cmte_id, dtype: int64\n",
      "==============================\n",
      "contbr_occupation\n",
      "INVESTMENT MANAGEMENT    1\n",
      "FINANCIAL ADVISOR        1\n",
      "COB                      1\n",
      "Name: cmte_id, dtype: int64\n",
      "==============================\n",
      "contbr_occupation\n",
      "RETIRED                                   78\n",
      "INFORMATION REQUESTED PER BEST EFFORTS    20\n",
      "PRINCIPAL                                 15\n",
      "EXECUTIVE                                 15\n",
      "PORTFOLIO MANAGER                         14\n",
      "Name: cmte_id, dtype: int64\n",
      "==============================\n",
      "contbr_occupation\n",
      "RETIRED                       206\n",
      "REQUESTED PER BEST EFFORTS     36\n",
      "HOMEMAKER                      22\n",
      "OWNER                          13\n",
      "FUNERAL DIRECTOR               12\n",
      "Name: cmte_id, dtype: int64\n",
      "==============================\n",
      "contbr_occupation\n",
      "RETIRED      5\n",
      "ENGINEER     4\n",
      "PROFESSOR    3\n",
      "REALTOR      2\n",
      "PRESIDENT    2\n",
      "Name: cmte_id, dtype: int64\n",
      "==============================\n",
      "contbr_occupation\n",
      "RETIRED                          18\n",
      "TWICE REQUESTED, NOT RECEIVED    14\n",
      "SOFTWARE ENGINEER                 5\n",
      "ELECTRONIC TECHNICIAN             3\n",
      "FARMER                            2\n",
      "Name: cmte_id, dtype: int64\n",
      "==============================\n",
      "contbr_occupation\n",
      "RETIRED      725\n",
      "ATTORNEY     131\n",
      "CEO           77\n",
      "HOMEMAKER     67\n",
      "PRESIDENT     65\n",
      "Name: cmte_id, dtype: int64\n",
      "==============================\n",
      "contbr_occupation\n",
      "SOFTWARE ENGINEER    56\n",
      "DEVELOPER            42\n",
      "RETIRED              26\n",
      "ATTORNEY             20\n",
      "ENGINEER             18\n",
      "Name: cmte_id, dtype: int64\n",
      "==============================\n",
      "contbr_occupation\n",
      "RETIRED       52\n",
      "ATTORNEY      26\n",
      "LECTURER      23\n",
      "CONSULTANT    20\n",
      "PHYSICIAN     15\n",
      "Name: cmte_id, dtype: int64\n",
      "==============================\n",
      "contbr_occupation\n",
      "ATTORNEY                 3\n",
      "PRESIDENT                2\n",
      "INFORMATION REQUESTED    2\n",
      "HOMEMAKER                2\n",
      "STUDENT                  1\n",
      "Name: cmte_id, dtype: int64\n",
      "==============================\n",
      "contbr_occupation\n",
      "RETIRED                  874\n",
      "ENGINEER                 335\n",
      "INFORMATION REQUESTED    193\n",
      "CONSULTANT                95\n",
      "HOMEMAKER                 82\n",
      "Name: cmte_id, dtype: int64\n",
      "==============================\n",
      "contbr_occupation\n",
      "HOMEMAKER    11\n",
      "PRESIDENT    11\n",
      "EXECUTIVE     7\n",
      "ATTORNEY      7\n",
      "OWNER         5\n",
      "Name: cmte_id, dtype: int64\n",
      "==============================\n",
      "contbr_occupation\n",
      "RETIRED                                   5579\n",
      "HOMEMAKER                                  627\n",
      "INFORMATION REQUESTED PER BEST EFFORTS     491\n",
      "ATTORNEY                                   346\n",
      "PRESIDENT                                  197\n",
      "Name: cmte_id, dtype: int64\n",
      "==============================\n",
      "contbr_occupation\n",
      "NOT EMPLOYED         96371\n",
      "RETIRED              15048\n",
      "TEACHER              10167\n",
      "SOFTWARE ENGINEER     7861\n",
      "ENGINEER              7094\n",
      "Name: cmte_id, dtype: int64\n",
      "==============================\n",
      "contbr_occupation\n",
      "RETIRED             44\n",
      "ENGINEER             5\n",
      "MACHINIST            4\n",
      "PSYCHOLOGIST         3\n",
      "CUSTOMER SERVICE     3\n",
      "Name: cmte_id, dtype: int64\n",
      "==============================\n",
      "contbr_occupation\n",
      "RETIRED                               32\n",
      "RESEARCHER                            25\n",
      "WRITER                                20\n",
      "FORMAL FINANCIAL SERVICES EMPLOYEE     9\n",
      "SOFTWARE ENGINEER                      9\n",
      "Name: cmte_id, dtype: int64\n",
      "==============================\n",
      "contbr_occupation\n",
      "RETIRED                  849\n",
      "INFORMATION REQUESTED     70\n",
      "CEO                       57\n",
      "OWNER                     51\n",
      "PRESIDENT                 35\n",
      "Name: cmte_id, dtype: int64\n",
      "==============================\n",
      "contbr_occupation\n",
      "RETIRED                  232\n",
      "INFORMATION REQUESTED     70\n",
      "PRESIDENT                 37\n",
      "HOMEMAKER                 34\n",
      "ATTORNEY                  31\n",
      "Name: cmte_id, dtype: int64\n",
      "==============================\n",
      "contbr_occupation\n",
      "RETIRED                     14\n",
      "ATTORNEY                     8\n",
      "DEPUTY DISTRICT ATTORNEY     7\n",
      "MATH EDUCATOR                5\n",
      "NOT EMPLOYED                 5\n",
      "Name: cmte_id, dtype: int64\n",
      "==============================\n"
     ]
    },
    {
     "data": {
      "text/html": [
       "<div>\n",
       "<style>\n",
       "    .dataframe thead tr:only-child th {\n",
       "        text-align: right;\n",
       "    }\n",
       "\n",
       "    .dataframe thead th {\n",
       "        text-align: left;\n",
       "    }\n",
       "\n",
       "    .dataframe tbody tr th {\n",
       "        vertical-align: top;\n",
       "    }\n",
       "</style>\n",
       "<table border=\"1\" class=\"dataframe\">\n",
       "  <thead>\n",
       "    <tr style=\"text-align: right;\">\n",
       "      <th></th>\n",
       "    </tr>\n",
       "  </thead>\n",
       "  <tbody>\n",
       "  </tbody>\n",
       "</table>\n",
       "</div>"
      ],
      "text/plain": [
       "Empty DataFrame\n",
       "Columns: []\n",
       "Index: []"
      ]
     },
     "execution_count": 88,
     "metadata": {},
     "output_type": "execute_result"
    }
   ],
   "source": [
    "# YOUR CODE HERE\n",
    "contrib.groupby('cand_nm').apply(get_donors)    \n"
   ]
  },
  {
   "cell_type": "markdown",
   "metadata": {
    "collapsed": true,
    "deletable": false,
    "nbgrader": {
     "checksum": "14c2855e3d59f0da6b1afd5cf0da2da8",
     "grade": true,
     "grade_id": "cell-fd840cdd19d2bd2a",
     "locked": false,
     "points": 0,
     "schema_version": 1,
     "solution": true
    }
   },
   "source": [
    "**3e.** Comment on your findings in a short paragraph.\n",
    "\n",
    "Most of the contributions come from retired people. The numbers of contributions vary significantly among candidates. Many records do not have complete occupation information. "
   ]
  },
  {
   "cell_type": "markdown",
   "metadata": {
    "deletable": false,
    "nbgrader": {
     "checksum": "43ce3d15cee7ab73f53fd8f054c9826c",
     "grade": true,
     "grade_id": "cell-dce8d3107c1463ca",
     "locked": false,
     "points": 0,
     "schema_version": 1,
     "solution": true
    }
   },
   "source": [
    "- 3e YOUR ANSWER HERE"
   ]
  },
  {
   "cell_type": "markdown",
   "metadata": {},
   "source": [
    "**3f.** Think about your findings in section 3 vs. your findings in section 2 of this assignment. Do you have any new insights into the results you got in section 2, now that you see the top occupations for each candidate?"
   ]
  },
  {
   "cell_type": "markdown",
   "metadata": {
    "deletable": false,
    "nbgrader": {
     "checksum": "a5f4e6df0f32e24c492a9589ec87fef6",
     "grade": true,
     "grade_id": "cell-9e3f68b21dac8e10",
     "locked": false,
     "points": 0,
     "schema_version": 1,
     "solution": true
    }
   },
   "source": [
    "- 3f YOUR ANSWER HERE\n",
    "\n",
    "Looks like most Republican supporters are high-income individuals. Most of the occupations are presidents/CEOs, making the average donation amount much higher than democrats. "
   ]
  },
  {
   "cell_type": "markdown",
   "metadata": {},
   "source": [
    "\n",
    "## 4. Plotting Data\n",
    "\n",
    "There is an important element that we have not yet explored in this dataset - time."
   ]
  },
  {
   "cell_type": "markdown",
   "metadata": {},
   "source": [
    "**4a.** Please create a single line chart with the following elements:\n",
    "- Show the date on the x-axis\n",
    "- Show the contribution amount on the y-axis\n",
    "- Include a title\n",
    "- Include axis labels"
   ]
  },
  {
   "cell_type": "code",
   "execution_count": 83,
   "metadata": {
    "deletable": false,
    "nbgrader": {
     "checksum": "4f1a9e7ee0ded9d2b5af5777cb85e505",
     "grade": true,
     "grade_id": "cell-c14fbed9d72d54e3",
     "locked": false,
     "points": 0,
     "schema_version": 1,
     "solution": true
    }
   },
   "outputs": [
    {
     "data": {
      "text/plain": [
       "[<matplotlib.lines.Line2D at 0x27a78dc9ba8>]"
      ]
     },
     "execution_count": 83,
     "metadata": {},
     "output_type": "execute_result"
    },
    {
     "data": {
      "image/png": "[encoded data removed]",
      "text/plain": [
       "<matplotlib.figure.Figure at 0x27a059b3390>"
      ]
     },
     "metadata": {},
     "output_type": "display_data"
    }
   ],
   "source": [
    "# YOUR CODE HERE\n",
    "time_sub = contrib.groupby('contb_receipt_dt').contb_receipt_amt.sum().sort_index(ascending = True)\n",
    "y = time_sub.values\n",
    "x = time_sub.index\n",
    "plt.xlabel('Time')\n",
    "plt.title('Contribution Amount Over Time')\n",
    "plt.ylabel('Contribution Amount')\n",
    "plt.plot(x,y)"
   ]
  },
  {
   "cell_type": "markdown",
   "metadata": {},
   "source": [
    "**4b.** This chart is messy (and you should make better plots for your project). While there are better ways we can show this data, what conclusions can you draw from just your basic plot?"
   ]
  },
  {
   "cell_type": "markdown",
   "metadata": {
    "deletable": false,
    "nbgrader": {
     "checksum": "010f5de5f6af4c7f830d1cf7a81bbc0f",
     "grade": true,
     "grade_id": "cell-5617179133b06d0c",
     "locked": false,
     "points": 0,
     "schema_version": 1,
     "solution": true
    }
   },
   "source": [
    "- 4b YOUR ANSWER HERE\n",
    "\n",
    "Before 2015, there are not much contributions. After 2015, contributions start to accumulate but fluctuate a lot. Certain dates the contribution may increase a lot, maybe because of an effective political campaign."
   ]
  },
  {
   "cell_type": "markdown",
   "metadata": {},
   "source": [
    "**4c.** Brainstorm: If you were going to improve on this plot looking at donations over time, what could you display that would be more useful? You do not need to do any plotting for this question."
   ]
  },
  {
   "cell_type": "markdown",
   "metadata": {
    "deletable": false,
    "nbgrader": {
     "checksum": "6dc1481a003cdd752c5edfa9ac400879",
     "grade": true,
     "grade_id": "cell-f7a01ce9c5b10ac7",
     "locked": false,
     "points": 0,
     "schema_version": 1,
     "solution": true
    }
   },
   "source": [
    "- 4c YOUR ANSWER HERE\n",
    "\n",
    "I would exclude data before 2015, extend x-axis, and exclude amounts less then zero."
   ]
  },
  {
   "cell_type": "markdown",
   "metadata": {},
   "source": [
    "## If you have feedback for this homework, please submit it using the link below:\n",
    "\n",
    "http://goo.gl/forms/74yCiQTf6k"
   ]
  }
 ],
 "metadata": {
  "kernelspec": {
   "display_name": "Python 3",
   "language": "python",
   "name": "python3"
  },
  "language_info": {
   "codemirror_mode": {
    "name": "ipython",
    "version": 3
   },
   "file_extension": ".py",
   "mimetype": "text/x-python",
   "name": "python",
   "nbconvert_exporter": "python",
   "pygments_lexer": "ipython3",
   "version": "3.6.3"
  }
 },
 "nbformat": 4,
 "nbformat_minor": 2
}
