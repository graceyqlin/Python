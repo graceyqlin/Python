{
 "cells": [
  {
   "cell_type": "markdown",
   "metadata": {},
   "source": [
    "## Week 11 Assignment - W200 Python Fundamentals for Data Science, UC Berkeley MIDS\n",
    "\n",
    "Write code in this Jupyter Notebook to solve the following problems. Please upload this **Notebook** with your solutions to your GitHub repository in your SUBMISSIONS/week_11 folder by 11:59PM PST the night before class."
   ]
  },
  {
   "cell_type": "markdown",
   "metadata": {},
   "source": [
    "This homework assignment is Week 11 which corresponds to the Unit #10 async. If you turn-in anything on ISVC please do so under the Week 11 Assignment category. (Apologies for the confusion)"
   ]
  },
  {
   "cell_type": "markdown",
   "metadata": {},
   "source": [
    "## Objectives\n",
    "\n",
    "- Demonstrate use of map and filter commands\n",
    "- Practice list comprehensions and lambda functions\n",
    "- Understand different ways to manipulate and perform calculations on Numpy arrays including:\n",
    "- Changing datatypes, getting the max values in each column and row, calculating the mean of a matrix\n",
    "- Matrix value comparisons and slicing of values"
   ]
  },
  {
   "cell_type": "markdown",
   "metadata": {},
   "source": [
    "## 1. List, Mapping, Filtering, and Reducing Comprehensions\n",
    "\n",
    "**A.** Write a function that doubles any number (integer or floating type values), reverses the content if it is a string, and does nothing if it is another kind of value.\n",
    "\n",
    "Use that function in a **list comprehension** and apply it to the below list of data.\n",
    "\n",
    "Example of the first two entries:\n",
    "```\n",
    "['cinesra', 10, ...]\n",
    "```"
   ]
  },
  {
   "cell_type": "code",
   "execution_count": 16,
   "metadata": {
    "collapsed": true
   },
   "outputs": [],
   "source": [
    "fix_me = ['arsenic', 5, 'ball', 2, 47, 123, \n",
    "          'comprehensions', 'list', 5.5, \n",
    "          8343.23, 'shishkabob', True]"
   ]
  },
  {
   "cell_type": "code",
   "execution_count": 23,
   "metadata": {},
   "outputs": [],
   "source": [
    "# Put the function here\n",
    "def fix(a):\n",
    "    if type(a) is int or float:\n",
    "        return a*2\n",
    "    elif type(a) is str:\n",
    "        return a[::-1]\n",
    "    else:\n",
    "        return None"
   ]
  },
  {
   "cell_type": "code",
   "execution_count": 24,
   "metadata": {},
   "outputs": [
    {
     "name": "stdout",
     "output_type": "stream",
     "text": [
      "arsenic\n"
     ]
    },
    {
     "data": {
      "text/plain": [
       "'arsenicarsenic'"
      ]
     },
     "execution_count": 24,
     "metadata": {},
     "output_type": "execute_result"
    }
   ],
   "source": [
    "print(fix_me[0])\n",
    "fix(fix_me[0])"
   ]
  },
  {
   "cell_type": "code",
   "execution_count": 14,
   "metadata": {},
   "outputs": [
    {
     "name": "stdout",
     "output_type": "stream",
     "text": [
      "['arsenicarsenic', 10, 'ballball', 4, 94, 246, 'comprehensionscomprehensions', 'listlist', 11.0, 16686.46, 'shishkabobshishkabob', 2]\n"
     ]
    }
   ],
   "source": [
    "# Put the list comprehension (which calls your function above) here \n",
    "print(list(map(lambda x: fix(x), fix_me)))"
   ]
  },
  {
   "cell_type": "code",
   "execution_count": null,
   "metadata": {
    "collapsed": true
   },
   "outputs": [],
   "source": [
    "print"
   ]
  },
  {
   "cell_type": "markdown",
   "metadata": {},
   "source": [
    "**B.** Now apply your function made in **A** above using a **map**."
   ]
  },
  {
   "cell_type": "code",
   "execution_count": null,
   "metadata": {
    "collapsed": true
   },
   "outputs": [],
   "source": []
  },
  {
   "cell_type": "markdown",
   "metadata": {},
   "source": [
    "**C.** Repeat step **B**, except use **filter** to remove any number values that are less than 5 after your map.  You may use a separate function to filter (or could do it with one statement)."
   ]
  },
  {
   "cell_type": "code",
   "execution_count": null,
   "metadata": {
    "collapsed": true
   },
   "outputs": [],
   "source": []
  },
  {
   "cell_type": "markdown",
   "metadata": {},
   "source": [
    "**D.** Update your solution to **C** to use **lambda** expressions instead of functions for both the map and the filter. This needs to be done in one statement. If you are having trouble converting your functions to lambda functions, try to understand how the sample code below is working:\n",
    "```python\n",
    "y = lambda symbol: 'X' if symbol==True else 'O' if symbol==False else ' '\n",
    "```\n",
    "Hint: It might be helpful to test the map part and the filter part as separate statements and then combine them into one statement for the final answer."
   ]
  },
  {
   "cell_type": "code",
   "execution_count": null,
   "metadata": {
    "collapsed": true
   },
   "outputs": [],
   "source": []
  },
  {
   "cell_type": "markdown",
   "metadata": {},
   "source": [
    "# 2. Generating Random Data and Filtering That Data\n",
    "\n",
    "In this next section, we will work with NumPy. Please run your the cell below to set your random seed. (This makes the 'randomness' of the array the same for everyone)"
   ]
  },
  {
   "cell_type": "code",
   "execution_count": null,
   "metadata": {
    "collapsed": true
   },
   "outputs": [],
   "source": [
    "# Do NOT change this code!\n",
    "import numpy as np\n",
    "np.random.seed(25)\n",
    "ar = np.random.randn(1000)"
   ]
  },
  {
   "cell_type": "markdown",
   "metadata": {},
   "source": [
    "Now we will start playing around with this data. This part of the assignment will prompt you to follow a series of steps and output your answers. \n",
    "\n",
    "For the first number of these steps, the problem asks you to modify the dataset and use the new dataset in the next step.  For these steps, you will use the `ar` value that we created above, and after each step, you should set `ar` to be the new `ar` value. Using this process, you will update your dataset each step of the way. The later steps do not ask for this. It sounds confusing but there is a note on what to do on each question.  \n",
    "\n",
    "Please run the cell below as the first step:\n",
    "\n",
    "**Multiply all values by 100 and assign this back to ar**\n",
    "\n",
    "So your answer will be the following:"
   ]
  },
  {
   "cell_type": "code",
   "execution_count": null,
   "metadata": {
    "collapsed": true,
    "scrolled": true
   },
   "outputs": [],
   "source": [
    "# Do NOT change this code!\n",
    "ar = ar * 100\n",
    "ar"
   ]
  },
  {
   "cell_type": "markdown",
   "metadata": {},
   "source": [
    "*the first 3 values should be*\n",
    "```\n",
    "2.28273090e+01,   1.02689030e+02,  -8.39584849e+01,\n",
    "```"
   ]
  },
  {
   "cell_type": "markdown",
   "metadata": {},
   "source": [
    "**A.** Now convert the `ar` matrix into a matrix of 8-bit integers and assign this back to `ar`."
   ]
  },
  {
   "cell_type": "code",
   "execution_count": null,
   "metadata": {
    "collapsed": true
   },
   "outputs": [],
   "source": []
  },
  {
   "cell_type": "markdown",
   "metadata": {},
   "source": [
    "The first 3 values should be:\n",
    "```\n",
    " 22,  102,  -83,\n",
    "```\n",
    "And the length should be 1000."
   ]
  },
  {
   "cell_type": "markdown",
   "metadata": {},
   "source": [
    "**B.** Reshape the array into a set of five columns with 200 rows. Replace the original `ar` array with this new matrix."
   ]
  },
  {
   "cell_type": "code",
   "execution_count": null,
   "metadata": {
    "collapsed": true,
    "scrolled": true
   },
   "outputs": [],
   "source": []
  },
  {
   "cell_type": "markdown",
   "metadata": {},
   "source": [
    "**C.** Now that `ar` is a matrix, get the maximum and minimum values from the matrix both row-wise and column-wise. Be sure to remember how many total values you should be outputting - in the first cell should be one value for every row; in the second cell should be one value for each column. Do **NOT** assign this to `ar`, just show the values."
   ]
  },
  {
   "cell_type": "code",
   "execution_count": null,
   "metadata": {
    "collapsed": true
   },
   "outputs": [],
   "source": []
  },
  {
   "cell_type": "code",
   "execution_count": null,
   "metadata": {
    "collapsed": true
   },
   "outputs": [],
   "source": []
  },
  {
   "cell_type": "markdown",
   "metadata": {},
   "source": [
    "**D.** Now that we have gotten the minimum and maximum values for the rows and columns, get the mean of the entire matrix. This should be one specific value. Do **NOT** assign this to `ar`, just show the value."
   ]
  },
  {
   "cell_type": "code",
   "execution_count": null,
   "metadata": {
    "collapsed": true
   },
   "outputs": [],
   "source": []
  },
  {
   "cell_type": "markdown",
   "metadata": {},
   "source": [
    "**E.** What is the total number of values in the `ar` matrix that are less than the mean calculated in **D** above? Do **NOT** assign this to `ar`, just show the value."
   ]
  },
  {
   "cell_type": "code",
   "execution_count": null,
   "metadata": {
    "collapsed": true
   },
   "outputs": [],
   "source": []
  },
  {
   "cell_type": "markdown",
   "metadata": {},
   "source": [
    "**F.** What are the total number of values in *each row* that are greater than the mean calculated in **D** above? (Remember, if we are doing a row-oriented comparison, how many numbers should be in our output array?) Do **NOT** assign this to `ar`, just show the values."
   ]
  },
  {
   "cell_type": "code",
   "execution_count": null,
   "metadata": {
    "collapsed": true
   },
   "outputs": [],
   "source": []
  },
  {
   "cell_type": "markdown",
   "metadata": {},
   "source": [
    "**G.** How many zeros are in the matrix that we have? Do **NOT** assign this to `ar`, just show the value."
   ]
  },
  {
   "cell_type": "code",
   "execution_count": null,
   "metadata": {
    "collapsed": true
   },
   "outputs": [],
   "source": []
  },
  {
   "cell_type": "markdown",
   "metadata": {},
   "source": [
    "**H.** Lastly, sum all the values that are: \n",
    "- (Greater than 100) and (less than 5 and greater than or equal to -20). \n",
    "\n",
    "Do **NOT** assign this to `ar`, just show the value."
   ]
  },
  {
   "cell_type": "code",
   "execution_count": null,
   "metadata": {
    "collapsed": true
   },
   "outputs": [],
   "source": []
  }
 ],
 "metadata": {
  "kernelspec": {
   "display_name": "Python 3",
   "language": "python",
   "name": "python3"
  },
  "language_info": {
   "codemirror_mode": {
    "name": "ipython",
    "version": 3
   },
   "file_extension": ".py",
   "mimetype": "text/x-python",
   "name": "python",
   "nbconvert_exporter": "python",
   "pygments_lexer": "ipython3",
   "version": "3.6.3"
  }
 },
 "nbformat": 4,
 "nbformat_minor": 1
}
