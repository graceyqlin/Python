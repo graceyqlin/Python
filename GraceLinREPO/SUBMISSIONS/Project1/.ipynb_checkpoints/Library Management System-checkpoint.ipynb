{
 "cells": [
  {
   "cell_type": "code",
   "execution_count": 31,
   "metadata": {
    "collapsed": true
   },
   "outputs": [],
   "source": [
    "import pickle"
   ]
  },
  {
   "cell_type": "code",
   "execution_count": 61,
   "metadata": {
    "collapsed": true
   },
   "outputs": [],
   "source": [
    "class Account:\n",
    "    \n",
    "    def __init__(self, account_id, account_name):\n",
    "        self.__account_id = account_id\n",
    "        self.__account_name = account_name\n",
    "        self.__account_history = []\n",
    "\n",
    "    def get_account_id(self):\n",
    "        return self.__account_id\n",
    "    \n",
    "    def set_account_id(self, new_id):\n",
    "        self.__account_id = new_id\n",
    "    \n",
    "    def get_account_name(self):\n",
    "        return self.__account_name\n",
    "    \n",
    "    def set_account_name(self, new_name):\n",
    "        self.__account_name = new_name\n",
    "        \n",
    "    def get_account_history(self):\n",
    "        print(\"Account Borrow History: \", end = '')\n",
    "        if self.__account_history:\n",
    "            for item in self.__account_history:\n",
    "                print(\"Datetime {0} borrowed Book {1}\".format(item[0], item[1]))\n",
    "        else:\n",
    "            print(\"No borrow history found!\")\n",
    "            \n",
    "    def update_account_history(self, datetime, book):\n",
    "        self.__account_history.append((datetime, book.get_book_id()))\n",
    "        return True\n",
    "    "
   ]
  },
  {
   "cell_type": "code",
   "execution_count": 62,
   "metadata": {
    "collapsed": true
   },
   "outputs": [],
   "source": [
    "class Admin:\n",
    "    \n",
    "    def __init__(self):\n",
    "        self.__db_location = 'db/account_db.pkl'\n",
    "        _init_db = {}\n",
    "        self.__dump_account_db(_init_db)\n",
    "    \n",
    "    def register_account(self, account_id = None, account_name = None):\n",
    "        if not account_id or not account_name:\n",
    "            print(\"Please enter account_id and account_name\")\n",
    "            return\n",
    "        account_db = self.__load_account_db()\n",
    "        if account_id in account_db.keys():\n",
    "            print(\"Account ID {0} already used!\".format(account_id))\n",
    "            return \n",
    "        \n",
    "        new_account = Account(account_id, account_name)\n",
    "        account_db[account_id] = new_account\n",
    "        self.__dump_account_db(account_db)\n",
    "        print(\"SUCCESS: Account {} registered!\".format(account_id))\n",
    "        print(\"INFO:\")\n",
    "        self.__print_account_info(new_account)\n",
    "       \n",
    "    \n",
    "    def purge_account(self, account_id):\n",
    "        account_db = self.__load_account_db\n",
    "        ## TODO: remove account by id\n",
    "        \n",
    "    def __load_account_db(self):\n",
    "        with open(self.__db_location, 'rb') as f:\n",
    "            return pickle.load(f)\n",
    "        \n",
    "    def __dump_account_db(self, account_db):\n",
    "        with open(self.__db_location, 'wb') as f:\n",
    "            pickle.dump(account_db, f)\n",
    "    \n",
    "    def search_account(self, account_id = None, account_name = None):\n",
    "        if account_id:\n",
    "            account = self.__search_account_by_id(account_id)\n",
    "            if account:\n",
    "                print(\"Account is Found!\")\n",
    "                self.__print_account_info(account)\n",
    "            \n",
    "    def __search_account_by_id(self, account_id):\n",
    "        account_db = self.__load_book_db()\n",
    "        if account_id not in account_db:\n",
    "            print(\"FAIL: Account is not found!\")\n",
    "            return\n",
    "        else:\n",
    "            return account_db[account_id]\n",
    "    \n",
    "    def __print_account_info(self, account):\n",
    "        account_id = account.get_account_id()\n",
    "        account_name = account.get_account_name()\n",
    "        print(\"Account id: {0}\\nAccount name: {1}\".format(account_id, account_name))\n",
    "        account.get_account_history()\n",
    "        \n",
    "    def borrow_book(book, account_id, datetime):\n",
    "        if book.get_status is False:\n",
    "            print(\"FAIL: This book is not available\")\n",
    "            return\n",
    "        \n",
    "        account_db = self.__load_account_db()\n",
    "        if account_id not in account_db:\n",
    "            print(\"FAIL: Account is not registered!\")\n",
    "            return\n",
    "        \n",
    "        if account.update_account_history(datetime = datetime, book = book):\n",
    "            book.update_status(False)\n",
    "            print(\"SUCCESS: User {0} borrowed book {1} on datetime {2}!\".format(account.get_account_name(), book.get_book_name(), datetime))\n",
    "        self.__dump_account_db(account_db)"
   ]
  },
  {
   "cell_type": "code",
   "execution_count": 63,
   "metadata": {},
   "outputs": [
    {
     "name": "stdout",
     "output_type": "stream",
     "text": [
      "SUCCESS: Account 001 registered!\n",
      "INFO:\n",
      "Account id: 001\n",
      "Account name: 123\n",
      "Account Borrow History: No borrow history found!\n",
      "SUCCESS: Account 002 registered!\n",
      "INFO:\n",
      "Account id: 002\n",
      "Account name: 321\n",
      "Account Borrow History: No borrow history found!\n"
     ]
    }
   ],
   "source": [
    "admin = Admin()\n",
    "admin.register_account(account_id = '001', account_name = '123')\n",
    "admin.register_account(account_id = '002', account_name = '321')"
   ]
  },
  {
   "cell_type": "code",
   "execution_count": null,
   "metadata": {
    "collapsed": true
   },
   "outputs": [],
   "source": []
  },
  {
   "cell_type": "code",
   "execution_count": 34,
   "metadata": {
    "collapsed": true
   },
   "outputs": [],
   "source": [
    "class Book:\n",
    "    \n",
    "    def __init__(self, book_id, book_name, author, status = True):\n",
    "        self.__book_id = book_id\n",
    "        self.__status = status ## init status is available to borrow\n",
    "        \n",
    "        self.__book_name = book_name\n",
    "        self.__author = author\n",
    "            \n",
    "    def get_book_id(self):\n",
    "        return self.__book_id\n",
    "    \n",
    "    def get_book_name(self):\n",
    "        return self.__book_name\n",
    "    \n",
    "    def set_book_name(self, new_name):\n",
    "        self.__book_name = new_name\n",
    "    \n",
    "    def get_author(self):\n",
    "        return self.__author\n",
    "            \n",
    "    def set_author(self, author):\n",
    "        self.__author = author\n",
    "        \n",
    "    def update_status(self, status):\n",
    "        self.__status = status\n",
    "        \n",
    "    def get_status(self):\n",
    "        return self.__status\n",
    "    "
   ]
  },
  {
   "cell_type": "code",
   "execution_count": 35,
   "metadata": {
    "collapsed": true
   },
   "outputs": [],
   "source": [
    "class Library:\n",
    "    def __init__(self, library_id, library_name):\n",
    "        self.__library_id = library_id\n",
    "        self.__library_name = library_name\n",
    "        self.__db_location = 'db/book_db.pkl'\n",
    "        _init_db = {}\n",
    "        self.__dump_book_db(_init_db)\n",
    "        \n",
    "    def register_book(self, book_id = None, book_name = None, author = None):\n",
    "        if not book_id or not book_name or not author:\n",
    "            print(\"Please enter book_id, book_name and author\")\n",
    "            return\n",
    "        book_db = self.__load_book_db()\n",
    "        if book_id in book_db.keys():\n",
    "            print(\"Book {0} already registered!\".format(book_id))\n",
    "            return\n",
    "        \n",
    "        new_book = Book(book_id, book_name, author)\n",
    "        \n",
    "        book_db[book_id] = new_book\n",
    "        \n",
    "        self.__dump_book_db(book_db)\n",
    "        \n",
    "    def purge_book(self, book_id):\n",
    "        book_db = self.__load_book_db()\n",
    "        ## TODO: remove book from db\n",
    "    \n",
    "    def __load_book_db(self):\n",
    "        with open(self.__db_location, 'rb') as f:\n",
    "            return pickle.load(f)\n",
    "    \n",
    "    def __dump_book_db(self, book_db):\n",
    "        with open(self.__db_location, 'wb') as f:\n",
    "            pickle.dump(book_db, f)\n",
    "    \n",
    "    def search_book(self, book_id = None, book_name = None, author = None):\n",
    "        if book_id:\n",
    "            book_db = self.__load_book_db()\n",
    "            self.__search_book_by_id(book_id)\n",
    "    \n",
    "    def __search_book_by_id(self, book_id):\n",
    "        book_db = self.__load_book_db()\n",
    "        if book_id in book_db:\n",
    "            self.__print_book_info(book_db[book_id])\n",
    "            return\n",
    "        else:\n",
    "            print(\"### No book is found!\")\n",
    "            return\n",
    "    \n",
    "    def __search_book_by_book_name(self, book_name):\n",
    "        pass\n",
    "    \n",
    "    def __search_book_by_author(self, author):\n",
    "        pass\n",
    "    \n",
    "    def __print_book_info(self, book):\n",
    "        book_id = book.get_book_id()\n",
    "        book_name = book.get_book_name()\n",
    "        author = book.get_author()\n",
    "        print(\"### Book is found!\\nBook id: {0}\\nBook Name: {1}\\nBook Author: {2}\".format(book_id, book_name, author))\n",
    "        "
   ]
  },
  {
   "cell_type": "code",
   "execution_count": 36,
   "metadata": {},
   "outputs": [
    {
     "name": "stdout",
     "output_type": "stream",
     "text": [
      "### No book is found!\n",
      "### Book is found!\n",
      "Book id: 001\n",
      "Book Name: a little book\n",
      "Book Author: grace\n"
     ]
    }
   ],
   "source": [
    "grace_library = Library(\"000001\", \"Grace Library\")\n",
    "grace_library.register_book(book_id = '001', book_name = 'a little book', author = 'grace')\n",
    "grace_library.register_book(book_id = '002', book_name = 'a bigger book', author = 'grace')\n",
    "grace_library.search_book(book_id = '003')\n",
    "grace_library.search_book(book_id = '001')"
   ]
  }
 ],
 "metadata": {
  "kernelspec": {
   "display_name": "Python 3",
   "language": "python",
   "name": "python3"
  },
  "language_info": {
   "codemirror_mode": {
    "name": "ipython",
    "version": 3
   },
   "file_extension": ".py",
   "mimetype": "text/x-python",
   "name": "python",
   "nbconvert_exporter": "python",
   "pygments_lexer": "ipython3",
   "version": "3.6.3"
  }
 },
 "nbformat": 4,
 "nbformat_minor": 2
}
