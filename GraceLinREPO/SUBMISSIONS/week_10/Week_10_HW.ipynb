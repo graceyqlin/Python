{
 "cells": [
  {
   "cell_type": "markdown",
   "metadata": {
    "deletable": false,
    "editable": false,
    "nbgrader": {
     "checksum": "e7277fe4563989179a2ec4bb4b0259e7",
     "grade": false,
     "grade_id": "cell-76038a88b4d3af8c",
     "locked": true,
     "schema_version": 1,
     "solution": false
    }
   },
   "source": [
    "## Week 10 Assignment - W200 Python Fundamentals for Data Science, UC Berkeley MIDS\n",
    "\n",
    "Write code in this Jupyter Notebook to solve the following problems. Please upload this **Notebook and the five .csv files** with your solutions to your GitHub repository in your SUBMISSIONS/week_10 folder by 11:59PM PST the night before class."
   ]
  },
  {
   "cell_type": "markdown",
   "metadata": {
    "deletable": false,
    "editable": false,
    "nbgrader": {
     "checksum": "41484a8a03085b2191cdd48cd198a8c6",
     "grade": false,
     "grade_id": "cell-ae5d30c3c3f47580",
     "locked": true,
     "schema_version": 1,
     "solution": false
    }
   },
   "source": [
    "This homework assignment is Week 10 which corresponds to the Unit #9 async. If you turn-in anything on ISVC please do so under the Week 10 Assignment category. (Apologies for the confusion)"
   ]
  },
  {
   "cell_type": "code",
   "execution_count": null,
   "metadata": {
    "collapsed": true,
    "deletable": false,
    "editable": false,
    "nbgrader": {
     "checksum": "cb18e0aff969027291271a6ee824bae3",
     "grade": true,
     "grade_id": "cell-91b70a2e4950e176",
     "locked": true,
     "points": 0,
     "schema_version": 1,
     "solution": false
    }
   },
   "outputs": [],
   "source": [
    "# Autograde cell - do not erase/delete"
   ]
  },
  {
   "cell_type": "markdown",
   "metadata": {
    "deletable": false,
    "editable": false,
    "nbgrader": {
     "checksum": "6b52c4ac0395c1e0a459473b439e2153",
     "grade": false,
     "grade_id": "cell-5977c1d8f1d55d67",
     "locked": true,
     "schema_version": 1,
     "solution": false
    }
   },
   "source": [
    "## Objectives\n",
    "\n",
    "- Demonstrate how to import different data files\n",
    "- Get a small glimpse on how messy data can be\n",
    "- Design and implement an algorithm to standardize the information and fix the messiness\n",
    "- Work with Python data structures to sort and output the correct information\n",
    "- Demonstrate how to export required information to a .csv file"
   ]
  },
  {
   "cell_type": "markdown",
   "metadata": {
    "deletable": false,
    "editable": false,
    "nbgrader": {
     "checksum": "3017559e8ef8658ffaf9c3d19950e1e7",
     "grade": false,
     "grade_id": "cell-f3df226b1112e4f1",
     "locked": true,
     "schema_version": 1,
     "solution": false
    }
   },
   "source": [
    "## Reading and Writing Data\n",
    "\n",
    "In this assignment, you will be reading and writing data. Yes, finally some data science (or at least some exploratory data analysis)! In the week_10 assignment folder, there are three data files ending in `csv`, `json` and `pkl` named: \n",
    "\n",
    "* data.csv\n",
    "* data.json\n",
    "* data.pkl\n",
    "\n",
    "These are three common types of file formats that exist for storing data. You can run the following **on the bash command line** to see what is in each file (this will not work from a Windows prompt but will work in git bash):\n",
    "\n",
    "```sh\n",
    "head data.csv # (or .pkl or .json )\n",
    "```\n",
    "\n",
    "You'll see that there is some method to the madness but that each file has its peculiarities. Each file contains a portion of the total dataset that consists of 100 records, so you will need to **read in all of the files and combine them into some standard format** with which you are comfortable. Aim for something standard where each \"row\" is the same format.\n",
    "\n",
    "After you've standardized all of the data, report the following bits of information by **writing them to a .csv file** labeled `question_1.csv`, `question_2.csv` etc. There needs to be separate .csv files for each question below. \n",
    "\n",
    "We will be using a script to examine and grade your .csv files so please make sure: \n",
    "- The answers are all in one **column** with one answer entry per cell, sorted as stated in the question below. (That is: looking at the .csv in a spreadsheet editor like Google Sheets all answers would be in the 'A' column, with the first entry in A1, the second in A2 etc). \n",
    "- It is strongly recommended that you open each .csv file to ensure the answers are there and displayed correctly! \n",
    "- Don't include quotes around the list items (that is please strip the leading and trailing quotes from an item when you write to the .csv files) (for example, the file should say ```Spain``` instead of ```\"Spain\"```)\n",
    "\n",
    "In addition, show all of your work in this **Jupyter notebook**.\n",
    "\n",
    "1. What are the unique countries in the dataset, sorted alphabetically?\n",
    "2. What are the unique email domains in the dataset, sorted alphabetically?\n",
    "3. What are the first names of everyone that does not have a P.O. Box address, sorted alphabetically?\n",
    "4. What are the names of the first 5 people when you sort the data alphabetically by Country?\n",
    "5. What are the names of the first 5 people when you sort the data numerically ascending by phone number?"
   ]
  },
  {
   "cell_type": "markdown",
   "metadata": {
    "deletable": false,
    "editable": false,
    "nbgrader": {
     "checksum": "d003679b43630f9f08997dd17b0483a6",
     "grade": false,
     "grade_id": "cell-ad4b864c26503a51",
     "locked": true,
     "schema_version": 1,
     "solution": false
    }
   },
   "source": [
    "### Assumptions\n",
    "\n",
    "- You might have to make decisions about the data; for example, what to do with ties or how to sort the phone numbers numerically. \n",
    "- Please write your assumptions in this Jupyter notebook at the top of your code under the heading below that says ASSUMPTIONS\n",
    "- This is a good habit to get into as you analyze data so not only you can remember why you made the decisions you did but also other people can follow your analysis later!"
   ]
  },
  {
   "cell_type": "markdown",
   "metadata": {
    "deletable": false,
    "editable": false,
    "nbgrader": {
     "checksum": "57450666cda1cb410247d946aa6801fe",
     "grade": false,
     "grade_id": "cell-ac3d57f37fc71750",
     "locked": true,
     "schema_version": 1,
     "solution": false
    }
   },
   "source": [
    "### Restrictions\n",
    "You should use these standard library imports:\n",
    "\n",
    "```python\n",
    "import json\n",
    "import csv\n",
    "import pickle\n",
    "```\n",
    "\n",
    "Some of you may be familiar with a Python package called `pandas` which would greatly speed up this sort of file processing.  The point of this homework is to do the work manually.  You can use `pandas` to independently check your work if you are so inclined but do not use `pandas` as the sole solution method. Don't worry if you are not familiar with `pandas`.  We will do this homework as a class exercise using `pandas` in the near future."
   ]
  },
  {
   "cell_type": "markdown",
   "metadata": {
    "deletable": false,
    "editable": false,
    "nbgrader": {
     "checksum": "37f055bd953aed4082e42452ea4849db",
     "grade": false,
     "grade_id": "cell-f8df9d752522f9cd",
     "locked": true,
     "schema_version": 1,
     "solution": false
    }
   },
   "source": [
    "### Hints (optional)\n",
    "\n",
    "- You may use regular expressions if you wish to extract data from each row. You do not need to use them if you do not want to or see a need to. The Python regular expression module is called `re`.\n",
    "- You may want to use the `operator` module to help in sorting.\n",
    "- There are many data structures and formats that you might use to solve this problem.  You will have to decide if you want to keep the information for each person together as one record or all the information for each of the fields together.\n",
    "- You can put these files into sensible structures such as lists or or dictionaries. The async covers how to do this for csv and json. For pickle this might help https://wiki.python.org/moin/UsingPickle \n",
    "- .items() or .key() can be useful for dictionaries\n",
    "- Once again, it is strongly recommended that you open each .csv file to ensure the answers are there and displayed correctly! "
   ]
  },
  {
   "cell_type": "code",
   "execution_count": 2,
   "metadata": {
    "collapsed": true,
    "deletable": false,
    "nbgrader": {
     "checksum": "a9a1953b30c5c007240c3a39fe6b34e7",
     "grade": true,
     "grade_id": "cell-75a5e5501709371b",
     "locked": false,
     "points": 0,
     "schema_version": 1,
     "solution": true
    }
   },
   "outputs": [],
   "source": [
    "# YOUR CODE HERE\n",
    "import json\n",
    "import csv\n",
    "import pickle"
   ]
  },
  {
   "cell_type": "code",
   "execution_count": 66,
   "metadata": {
    "collapsed": true
   },
   "outputs": [],
   "source": [
    "# Convert Json file to CSV\n",
    "\n",
    "with open('data.json') as json_data:\n",
    "    jdata = json.load(json_data)\n",
    "    \n",
    "\n",
    "headers = list(jdata.keys())\n",
    "ids = list(jdata['Name'].keys())\n",
    "\n",
    "with open(\"j_to_c_data.csv\", \"w+\", newline=\"\\n\") as file:\n",
    "    csv_file = csv.writer(file)\n",
    "    \n",
    "    for ID in ids:\n",
    "        rows = [ID]\n",
    "        for header in headers:       \n",
    "            rows.append(jdata[header][ID])\n",
    "        csv_file.writerow(rows)\n",
    "        \n"
   ]
  },
  {
   "cell_type": "code",
   "execution_count": 67,
   "metadata": {
    "collapsed": true
   },
   "outputs": [],
   "source": [
    "# Convert Pickle file to csv\n",
    "\n",
    "pickledata = pickle.load(open( \"data.pkl\", \"rb\" ) )\n",
    "\n",
    "pickle_ids = list(pickledata['Name'].keys())\n",
    "\n",
    "\n",
    "with open('p_to_c_data.csv','w', encoding = 'utf-8', newline=\"\\n\") as f:\n",
    "        pickle_writer = csv.writer(f)\n",
    "        \n",
    "        for pickle_id in pickle_ids: \n",
    "            rows = [pickle_id]\n",
    "            for header in headers:\n",
    "                rows.append(pickledata[header][pickle_id])\n",
    "#             print(rows)\n",
    "            pickle_writer.writerow(rows)\n"
   ]
  },
  {
   "cell_type": "code",
   "execution_count": 4,
   "metadata": {
    "collapsed": true
   },
   "outputs": [],
   "source": [
    "with open('complete_data.csv','w', newline=\"\\n\") as f:\n",
    "        data_writer = csv.writer(f)\n",
    "        \n",
    "        for line in open('data.csv'): \n",
    "            f.write(line)\n",
    "        \n",
    "        for line in open('j_to_c_data.csv'):\n",
    "            f.write(line)\n",
    "            \n",
    "        for line in open('p_to_c_data.csv'):\n",
    "            f.write(line)\n"
   ]
  },
  {
   "cell_type": "code",
   "execution_count": 76,
   "metadata": {
    "collapsed": true
   },
   "outputs": [],
   "source": [
    "# Q1:What are the unique countries in the dataset, sorted alphabetically?\n",
    "   \n",
    "country_list = []\n",
    "\n",
    "\n",
    "with open('complete_data.csv', 'r') as f:\n",
    "    reader = csv.reader(f)\n",
    "    for row in reader:\n",
    "        country_list.append(row[5])\n",
    "        \n",
    "country_list = sorted(set(country_list[1:]))\n",
    "\n",
    "with open('question_1.csv','w', newline=\"\\n\") as f:\n",
    "        data_writer = csv.writer(f)\n",
    "        for country in country_list:            \n",
    "            data_writer.writerow([country])\n",
    "        \n"
   ]
  },
  {
   "cell_type": "code",
   "execution_count": 78,
   "metadata": {},
   "outputs": [],
   "source": [
    "# Q2. What are the unique email domains in the dataset, sorted alphabetically?\n",
    "\n",
    "domain_set = set([])\n",
    "\n",
    "with open('complete_data.csv', 'r') as f:\n",
    "    reader = csv.reader(f)\n",
    "    for row in reader:\n",
    "        email = row[6]\n",
    "        if row[6] != 'Email':\n",
    "            domain = email.split(\"@\")[-1]\n",
    "            domain_set.add(domain)\n",
    "            \n",
    "domain_set = sorted(domain_set)\n",
    "with open('question_2.csv','w', newline=\"\\n\") as f:\n",
    "        data_writer = csv.writer(f)\n",
    "        for domain in domain_set:            \n",
    "            data_writer.writerow([domain])"
   ]
  },
  {
   "cell_type": "code",
   "execution_count": 81,
   "metadata": {},
   "outputs": [],
   "source": [
    "# Q3. What are the first names of everyone that does not have a P.O. Box address, sorted alphabetically?\n",
    "\n",
    "first_name = []\n",
    "\n",
    "with open('complete_data.csv', 'r') as f:\n",
    "    reader = csv.reader(f)\n",
    "    for row in reader:\n",
    "        address = row[3]\n",
    "        if row[3] != 'Address':\n",
    "            if \"P.O.\" not in address.split():\n",
    "                po_first_name = row[1].split()[0]\n",
    "                first_name.append(po_first_name)\n",
    "\n",
    "\n",
    "with open('question_3.csv','w', newline=\"\\n\") as f:\n",
    "        data_writer = csv.writer(f)\n",
    "        for first in sorted(first_name):            \n",
    "            data_writer.writerow([first])\n",
    "        "
   ]
  },
  {
   "cell_type": "code",
   "execution_count": 82,
   "metadata": {},
   "outputs": [],
   "source": [
    "# Q4. What are the names of the first 5 people when you sort the data alphabetically by Country?\n",
    "\n",
    "mydict = {}\n",
    "keys = []\n",
    "with open('complete_data.csv', 'r') as f:\n",
    "    reader = csv.reader(f)\n",
    "    for row in reader:\n",
    "        if row[5] != 'Country':\n",
    "            mydict[row[5]] = row[1] \n",
    "            \n",
    "sorted_dict = sorted(mydict)[0:5]  \n",
    "\n",
    "for key in sorted_dict:\n",
    "    keys.append(mydict[key])    \n",
    "\n",
    "with open('question_4.csv', 'w', newline=\"\\n\") as f:\n",
    "    data_writer = csv.writer(f)\n",
    "    for key in keys:            \n",
    "        data_writer.writerow([key])\n",
    "\n",
    "        "
   ]
  },
  {
   "cell_type": "code",
   "execution_count": 84,
   "metadata": {},
   "outputs": [],
   "source": [
    "# Q5. What are the names of the first 5 people when you sort the data numerically ascending by phone number?\n",
    "# Assumption: some data is not complete with the length of phone numbers less than 14. We can exclude those incomplete records.\n",
    "\n",
    "mydict = {}\n",
    "keys = []\n",
    "\n",
    "with open('complete_data.csv', 'r') as f:\n",
    "    reader = csv.reader(f)\n",
    "    for row in reader:\n",
    "        if row[2] != 'Phone' and len(row[2]) == 14:\n",
    "            mydict[row[2]] = row[1] \n",
    "            \n",
    "sorted_dict = sorted(mydict)[0:5] \n",
    "\n",
    "\n",
    "for key in sorted_dict:\n",
    "    keys.append(mydict[key])    \n",
    "\n",
    "with open('question_5.csv', 'w', newline=\"\\n\") as f:\n",
    "    data_writer = csv.writer(f)\n",
    "    for key in keys:            \n",
    "        data_writer.writerow([key])"
   ]
  }
 ],
 "metadata": {
  "anaconda-cloud": {},
  "kernelspec": {
   "display_name": "Python 3",
   "language": "python",
   "name": "python3"
  },
  "language_info": {
   "codemirror_mode": {
    "name": "ipython",
    "version": 3
   },
   "file_extension": ".py",
   "mimetype": "text/x-python",
   "name": "python",
   "nbconvert_exporter": "python",
   "pygments_lexer": "ipython3",
   "version": "3.6.3"
  }
 },
 "nbformat": 4,
 "nbformat_minor": 1
}
