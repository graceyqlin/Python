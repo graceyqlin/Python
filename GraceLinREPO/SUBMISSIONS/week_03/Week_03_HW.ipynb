{
 "cells": [
  {
   "cell_type": "markdown",
   "metadata": {},
   "source": [
    "## Week 3 Assignment - W200 Python Fundamentals for Data Science, UC Berkeley MIDS"
   ]
  },
  {
   "cell_type": "markdown",
   "metadata": {},
   "source": [
    "Write code in this jupyter Notebook to solve the following problems. Please upload this **Notebook** with your solutions to your GitHub repository in your SUBMISSIONS/week_03 folder by 11:59PM PST the night before class."
   ]
  },
  {
   "cell_type": "markdown",
   "metadata": {},
   "source": [
    "## Objectives:\n",
    "\n",
    "- More practice with while loops, if statements and gathering user inputs\n",
    "- Demonstrate use of Python data structures such as lists, tuples, and dictionaries\n",
    "- Understand how to add items to these data structures and print the contents of each to the user"
   ]
  },
  {
   "cell_type": "markdown",
   "metadata": {},
   "source": [
    "## General Guidelines:\n",
    "\n",
    "- In each code block please fill in the ### comment at the top of a cell with your name  for ease of grading\n",
    "- Limited user input validation and error checking is encouraged on this assignment. Each question below will indicate the type of input that you can expect. (for example, if the question states the input will be an integer, you can expect the user to input an integer and do not need to check to ensure it is an integer versus a float or a string)\n",
    "- Adding comments in your code is strongly suggested but won't be graded.\n",
    "- The examples given are samples of how we will test/grade your code. Please ensure your code outputs the same information.\n",
    "- If you are stuck on a problem or do not understand a question - please come to office hours or ask questions to the class Google group (please don't post your code though). If it is a coding problem send a private email to all of the instructors."
   ]
  },
  {
   "cell_type": "markdown",
   "metadata": {
    "collapsed": true
   },
   "source": [
    "### 3-1. Pig Latin Translator\n",
    "\n",
    "Write code that translates names into a (simplified) Pig Latin (please do not make this a 'real' pig-latin translator). Have your script ask the user for their name(s). For each part of the name, move the first letter to the end of the name and add the letters \"ay\".  Make sure that only the first letter of each word in your output is capitalized. You can use the `split()` method on the string to create a list of the name segments. Be sure that your script can handle one, two or three names separated by spaces. This will likely involve a loop.\n",
    "\n",
    "Your script should re-create the following example exactly:\n",
    "\n",
    "```\n",
    "Enter your name: Paul Laskowski\n",
    "\n",
    "Aulpay Askowskilay\n",
    "```"
   ]
  },
  {
   "cell_type": "code",
   "execution_count": 4,
   "metadata": {},
   "outputs": [
    {
     "name": "stdout",
     "output_type": "stream",
     "text": [
      "Please enter your name jing jing ye\n",
      "Ingjay Ingjay Eyay\n"
     ]
    }
   ],
   "source": [
    "name = input(\"Please enter your name \")\n",
    "name = name.lower().split()\n",
    "outputname=[]\n",
    "\n",
    "for i in range(len(name)):\n",
    "    smallname = name[i]\n",
    "    smallname = list(smallname)\n",
    "    first = smallname.pop(0).lower()\n",
    "    if len(smallname)>0:\n",
    "        newname = (\"\").join(smallname)[0].upper()+(\"\").join(smallname)[1:]+first+\"ay\"\n",
    "        outputname.append(newname)\n",
    "    else:\n",
    "        newname= first.upper()+\"ay\"\n",
    "        outputname.append(newname)\n",
    "        \n",
    "print((\" \").join(outputname))"
   ]
  },
  {
   "cell_type": "markdown",
   "metadata": {
    "collapsed": true
   },
   "source": [
    "### 3-2. Matrix Inverter\n",
    "\n",
    "One place where the usage of tuples is convenient is in the representation of matrices.  The values in a 2x2 matrix are labeled as follows:\n",
    "$$\n",
    "\\begin{bmatrix}\n",
    "    a       & b  \\\\\n",
    "    c       & d\n",
    "\\end{bmatrix}\n",
    "$$\n",
    "\n",
    "Write code that asks the user for a text string including the four **numbers**, a, b, c, and d, separated by spaces.  You can use the `split()` method on the string to create a list of the four values in order.\n",
    "\n",
    "Create a tuple that represents each row, then create a tuple that contains those two tuples.  It should have the form `((a, b), (c, d))`.  **Print this representation.**\n",
    "\n",
    "The inverse of the matrix above is given by the formula:\n",
    "\n",
    "$$\n",
    "\\frac{1}{ad-bc} \\begin{bmatrix}\n",
    "    d       & -b  \\\\\n",
    "    -c       & a\n",
    "\\end{bmatrix}\n",
    "$$\n",
    "\n",
    "Compute the inverse of the given matrix, again represented as nested tuples, and **print this representation**. Use the example below to make sure you understand the equation correctly:\n",
    "\n",
    "\n",
    "```\n",
    "Please enter four numbers separated by spaces: 1 2 3 4\n",
    "\n",
    "matrix: ((1.0, 2.0), (3.0, 4.0))\n",
    "inverse: ((-2.0, 1.0), (1.5, -0.5))\n",
    "```"
   ]
  },
  {
   "cell_type": "code",
   "execution_count": 37,
   "metadata": {},
   "outputs": [
    {
     "name": "stdout",
     "output_type": "stream",
     "text": [
      "Please enter four numbers separated by spaces: 1 2 3 4\n",
      "matrix: ((1.0, 2.0), (3.0, 4.0))\n",
      "inverse: ((-2.0, 1.0), (1.5, -0.5))\n"
     ]
    }
   ],
   "source": [
    "def inverter():\n",
    "    matrix = input(\"Please enter four numbers separated by spaces: \")\n",
    "    matrix = matrix.split()\n",
    "    try:\n",
    "        a = float(matrix[0])\n",
    "        b = float(matrix[1])\n",
    "        c = float(matrix[2])\n",
    "        d = float(matrix[3])\n",
    "        new_matrix = ((a, b), (c, d))\n",
    "        if a*d - b*c == 0:\n",
    "            print(\"The matrix is not invertable\")\n",
    "\n",
    "        else: \n",
    "            multiple= (1/(a*d - b*c))\n",
    "            inverse = ((d*multiple, -b*multiple), (-c*multiple, a*multiple))\n",
    "            print(\"matrix:\", new_matrix)\n",
    "            print(\"inverse:\", inverse)\n",
    "    except:\n",
    "        print(\"Please enter numbers\")\n",
    "\n",
    "inverter()"
   ]
  },
  {
   "cell_type": "markdown",
   "metadata": {},
   "source": [
    "### 3-3. Create a to-do list program using a dictionary of lists\n",
    "\n",
    "Write a program that stores a to-do list for each day of the week (Sunday through Saturday). Your program needs to have the following elements:\n",
    "\n",
    "- An empty dictionary to store information\n",
    "- A key in the dictionary for each day of the week\n",
    "- Each key has a value of a list that stores the to-do list items\n",
    "\n",
    "- User can type \"add\" and the program will ask what day, then ask what item to add to that day. Ensure the user can add multiple items per day\n",
    "- User can type \"get\" and the program will ask for the day and print the values\n",
    "- The program will loop, using a while loop, until the user specifies \"quit\"\n",
    "\n",
    "- Some user error checking is required, specifically: upper/lowercase for the days of the week, incorrect day of the week, or an incorrect command\n",
    "- ** Hint: This task requires you to use tools you learned about in Unit 2 (\"if\" and \"loops\") along with dictionaries and lists.**\n",
    "\n",
    "Example:\n",
    "```\n",
    "Prompt: What would you like to do?\n",
    "> add\n",
    "\n",
    "Prompt: What day?\n",
    "> Friday\n",
    "\n",
    "Prompt: What would you like to add to Friday's to-do list?\n",
    "> practice clarinet\n",
    "\n",
    "Prompt: What would you like to do?\n",
    "> get\n",
    "\n",
    "Prompt: What day?\n",
    "> funday\n",
    "Invalid entry - please enter a correct day of the week (like Monday or monday).\n",
    "\n",
    "Prompt: What day?\n",
    "> friday\n",
    "\n",
    "Response: You have to practice clarinet.\n",
    "\n",
    "Prompt: What would you like to do?\n",
    "> quit\n",
    "\n",
    "Response: Ending program. Thank you for using the to-do list!\n",
    "```"
   ]
  },
  {
   "cell_type": "code",
   "execution_count": 1,
   "metadata": {},
   "outputs": [
    {
     "name": "stdout",
     "output_type": "stream",
     "text": [
      "What would you like to do? (Please type add or get or quit )add\n",
      "What day? monday\n",
      "What would you like to add to monday's to-do list music\n",
      "What would you like to do? (Please type add or get or quit )add\n",
      "What day? dinner\n",
      "Invalid entry - please enter a correct day of the week (like Monday or monday).\n",
      "What would you like to do? (Please type add or get or quit )monday\n",
      "What would you like to do? (Please type add or get or quit )add\n",
      "What day? monday\n",
      "What would you like to add to monday's to-do list dinner\n",
      "What would you like to do? (Please type add or get or quit )get\n",
      "What day? monday\n",
      "['music', 'dinner']\n",
      "What would you like to do? (Please type add or get or quit )quit\n",
      "Ending program. Thank you for using the to-do list!\n"
     ]
    }
   ],
   "source": [
    "### [Please put your name here]\n",
    "\n",
    "action_list = [\"add\", \"get\", \"quit\"]\n",
    "day_list = [\"monday\", \"tuesday\", \"wednesday\", \"thursday\", \"friday\", \"saturday\", \"sunday\"]\n",
    "calender={}\n",
    "action = ''\n",
    "\n",
    "while action != \"quit\":\n",
    "    action = input(\"What would you like to do? (Please type add or get or quit )\").lower()\n",
    "    if action == \"add\":\n",
    "        day = input (\"What day? \").lower()\n",
    "        if day in day_list:\n",
    "            thing = input (\"What would you like to add to \" + day + \"'s to-do list \")\n",
    "            if day in calender.keys():\n",
    "                calender[day].append(thing)\n",
    "            else:\n",
    "                calender[day] = [ thing ]\n",
    "        else:\n",
    "            print(\"Invalid entry - please enter a correct day of the week (like Monday or monday).\")\n",
    "\n",
    "    if action == \"get\":\n",
    "        day = input (\"What day? \").lower()\n",
    "        if day in day_list:\n",
    "            print(calender[day])\n",
    "        else:\n",
    "            print(\"Invalid entry - please enter a correct day of the week (like Monday or monday).\")    \n",
    "\n",
    "print(\"Ending program. Thank you for using the to-do list!\")\n"
   ]
  },
  {
   "cell_type": "markdown",
   "metadata": {},
   "source": [
    "### 3-4. Fibonacci\n",
    "\n",
    "The Fibonacci numbers begin with 1, 1.  After the first two numbers, each number is the sum of the previous two. 1 + 1 = 2, so 2 is the third number. Then 1 + 2 = 3, so 3 is the next one, and so on. Write a script that prompts the user for a number, then prints all the Fibonacci numbers that are less than or equal to the input, in order.\n",
    "\n",
    "Example:\n",
    "```\n",
    "Enter a number: 15\n",
    "\n",
    "1 1 2 3 5 8 13\n",
    "```"
   ]
  },
  {
   "cell_type": "code",
   "execution_count": 15,
   "metadata": {},
   "outputs": [
    {
     "name": "stdout",
     "output_type": "stream",
     "text": [
      "Please enter a number: 15\n",
      "[1, 1, 2, 3, 5, 8, 13]\n"
     ]
    }
   ],
   "source": [
    "Fibonacci =[]\n",
    "n = int(input(\"Please enter a number: \"))\n",
    "def F(n):\n",
    "    if n == 0: return 0\n",
    "    elif n == 1: return 1\n",
    "    else: \n",
    "        return F(n-1) + F(n-2)\n",
    "    \n",
    "for i in range(n):\n",
    "    Fibonacci.append(F(i))\n",
    "\n",
    "final_list = [x for x in Fibonacci if x < n][1:]\n",
    "\n",
    "print(final_list)"
   ]
  },
  {
   "cell_type": "markdown",
   "metadata": {},
   "source": [
    "### 3-5. Pascal's Triangle\n",
    "\n",
    "Pascal's triangle is a triangle of numbers that is computed as follows. The first row contains a 1.  Each row after that begins and ends with a 1, and every other number is the sum of the two numbers above it. The first six rows of Pascal's triangle are shown below.\n",
    "```\n",
    "      1\n",
    "     1 1\n",
    "    1 2 1\n",
    "  1  3 3  1\n",
    " 1 4  6  4 1\n",
    "1 5 10 10 5 1\n",
    "```\n",
    "Write a script to compute and print the *n*th row of Pascal's triangle. Do not spend time trying to print the entire triangle in the format above (it is for illustrative purposes only).\n",
    "\n",
    "** Hint: Think about the type of objects you need to solve the problem. What are you iterating over? It may help to calculate a couple of rows by hand and think about the process you take. **\n"
   ]
  },
  {
   "cell_type": "code",
   "execution_count": 11,
   "metadata": {},
   "outputs": [
    {
     "name": "stdout",
     "output_type": "stream",
     "text": [
      "Enter a row number: 6\n",
      "1 5 10 10 5 1 "
     ]
    }
   ],
   "source": [
    "### [Please put your name here]\n",
    "n = int(input(\"Enter a row number: \"))\n",
    "def pascal(row, col): \n",
    "    ## row is row index and starting from 1\n",
    "    ## col is col index starting from 1\n",
    "    \n",
    "    if col == 1 or col == row:\n",
    "        return 1\n",
    "    return pascal(row-1, col-1) + pascal(row-1, col)\n",
    "\n",
    "    \n",
    "for k in range(1, n+1):\n",
    "    print(pascal(n, k), end=' ', flush=True) "
   ]
  },
  {
   "cell_type": "markdown",
   "metadata": {},
   "source": [
    "## If you have feedback for this homework, please submit it using the link below:\n",
    "\n",
    "http://goo.gl/forms/74yCiQTf6k"
   ]
  },
  {
   "cell_type": "code",
   "execution_count": null,
   "metadata": {
    "collapsed": true
   },
   "outputs": [],
   "source": []
  }
 ],
 "metadata": {
  "anaconda-cloud": {},
  "kernelspec": {
   "display_name": "Python 3",
   "language": "python",
   "name": "python3"
  },
  "language_info": {
   "codemirror_mode": {
    "name": "ipython",
    "version": 3
   },
   "file_extension": ".py",
   "mimetype": "text/x-python",
   "name": "python",
   "nbconvert_exporter": "python",
   "pygments_lexer": "ipython3",
   "version": "3.6.3"
  }
 },
 "nbformat": 4,
 "nbformat_minor": 1
}
