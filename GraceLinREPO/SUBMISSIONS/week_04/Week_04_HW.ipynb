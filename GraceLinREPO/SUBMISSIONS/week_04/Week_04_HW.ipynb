{
 "cells": [
  {
   "cell_type": "markdown",
   "metadata": {},
   "source": [
    "## Week 4 Assignment - W200 Python Fundamentals for Data Science, UC Berkeley MIDS"
   ]
  },
  {
   "cell_type": "markdown",
   "metadata": {},
   "source": [
    "Write code in this jupyter Notebook to solve the following problems. Please upload this **Notebook** with your solutions to your GitHub repository in your SUBMISSIONS/week_04 folder by 11:59PM PST the night before class."
   ]
  },
  {
   "cell_type": "markdown",
   "metadata": {},
   "source": [
    "## Objectives:\n",
    "\n",
    "- More practice with for & while loops, if statements and gathering user inputs\n",
    "- Demonstrate use of Python list comprehensions.\n",
    "- Understand the pseudo-coding and algorithm complexities"
   ]
  },
  {
   "cell_type": "markdown",
   "metadata": {},
   "source": [
    "## General Guidelines:\n",
    "\n",
    "- In each code block please fill in the ### comment at the top of a cell with your name  for ease of grading\n",
    "- Limited user input validation and error checking is encouraged on this assignment. Each question below will indicate the type of input that you can expect. (for example, if the question states the input will be an integer, you can expect the user to input an integer and do not need to check to ensure it is an integer versus a float or a string)\n",
    "- Adding comments in your code is strongly suggested but won't be graded.\n",
    "- The examples given are samples of how we will test/grade your code. Please ensure your code outputs the same information."
   ]
  },
  {
   "cell_type": "markdown",
   "metadata": {},
   "source": [
    "## 4-1. Loops\n",
    "### 4-1-1. For Loops\n",
    "\n",
    "Write a script that prompts the user for two words (two, one-word strings).  Print all the **unique** letters that are common to both words, in alphabetical order, using **for** loops in your solution.\n",
    "\n",
    "For example:\n",
    "```\n",
    "Enter one word: Home\n",
    "Enter another word: meter\n",
    "\n",
    "Letters in common: em\n",
    "```"
   ]
  },
  {
   "cell_type": "code",
   "execution_count": 3,
   "metadata": {},
   "outputs": [
    {
     "name": "stdout",
     "output_type": "stream",
     "text": [
      "Enter one word: Home\n",
      "Enter another word: meter\n",
      "Letters in common:  em\n"
     ]
    }
   ],
   "source": [
    "### [Please put your name here]\n",
    "a = input(\"Enter one word: \").lower()\n",
    "b = input(\"Enter another word: \").lower()\n",
    "c = []\n",
    "for char in a:\n",
    "    if char in b:\n",
    "        c.append(char)\n",
    "c = (\"\").join(sorted(list(set(c))))\n",
    "print(\"Letters in common: \",c)\n"
   ]
  },
  {
   "cell_type": "markdown",
   "metadata": {},
   "source": [
    "### 4-1-2. A Game of Chess\n",
    "You place a pawn at the top left corner of an n-by-n chess board, labeled (0,0).  For each move, you have a choice: move the pawn down a single space, or move the pawn down one space and right one space.  That is, if the pawn is at position (i,j), you can move the pawn to (i+1,j) or (i+1, j+1).\n",
    "\n",
    "Ask the user for the size of a chessboard, n (**integer**).  Find the number of different paths **starting from (0,0)** that the pawn could take to reach each position on the chess board.  For example, there are two different paths the pawn can take to reach (2,1). Look at the diagrams below to convince yourself of this. You can see the four paths that you can take by move 2.\n",
    "\n",
    "   Start| Move 1   |Move 2\n",
    "\n",
    "  (0,0)  -> (1,0)   ->(2,1)\n",
    "  \n",
    "  (0,0)  -> (1,0)   ->(2,0)\n",
    "  \n",
    "  (0,0)  -> (1,1)   ->(2,1)\n",
    "  \n",
    "  (0,0)  -> (1,1)   ->(2,2)\n",
    "\n",
    "Print the board with the number of ways to reach each square labeled as shown below.\n",
    "\n",
    "For example:\n",
    "```\n",
    "Enter a board size: 4\n",
    "\n",
    "1 0 0 0\n",
    "1 1 0 0\n",
    "1 2 1 0\n",
    "1 3 3 1\n",
    "```\n",
    "\n",
    "#### Please create pseudocode for this problem in the first cell then implement your solution in the second cell."
   ]
  },
  {
   "cell_type": "code",
   "execution_count": null,
   "metadata": {
    "collapsed": true
   },
   "outputs": [],
   "source": [
    "### [Grace]\n",
    "\n",
    "# Pseudocode Here\n",
    "# P(i, 1) =1 for i in 0,n-1\n",
    "# P(i, i) =1 for i in 0,n-1\n",
    "# P(i, j) = P(i-1,j)+P(i-1,j-1) for j in 1,n-1, i in j+1,n\n"
   ]
  },
  {
   "cell_type": "code",
   "execution_count": 21,
   "metadata": {},
   "outputs": [
    {
     "name": "stdout",
     "output_type": "stream",
     "text": [
      "1 0 0 0 \n",
      "\n",
      "1 1 0 0 \n",
      "\n",
      "1 2 1 0 \n",
      "\n",
      "1 3 3 1 \n",
      "\n"
     ]
    }
   ],
   "source": [
    "import numpy as np\n",
    "\n",
    "def my_print(array):\n",
    "    n, m = array.shape\n",
    "    for i in range(n):\n",
    "        for j in range(m):\n",
    "            print(int(array[i,j]), end=' ')\n",
    "#         print(list(array[i,:]), end='')\n",
    "        print('\\n')\n",
    "        \n",
    "def generate_chess_paths(n):\n",
    "    output = np.zeros([n,n])\n",
    "    for i in range(n):\n",
    "        output[i, 0] = 1\n",
    "        output[i,i] = 1\n",
    "    \n",
    "    if n > 2:\n",
    "        for j in range(1, n-1):\n",
    "            for i in range(j+1, n):\n",
    "                output[i,j] = output[i-1, j] + output[i-1, j-1]\n",
    "    \n",
    "    my_print(output)\n",
    "\n",
    "generate_chess_paths(4)"
   ]
  },
  {
   "cell_type": "markdown",
   "metadata": {},
   "source": [
    "## 4-2. Algorithms\n",
    "\n",
    "### 4-2-1. Fixing the Bisection Search\n",
    "\n",
    "The bisection code below finds the square root of a number. Try inputting 16 into the code to confirm it works. Next, try inputting 0.25 into the bisection search algorithm below and confirm that it doesn't work. Then correct the algorithm so that it works for all positive numbers, including decimals such as 0.25."
   ]
  },
  {
   "cell_type": "code",
   "execution_count": 31,
   "metadata": {},
   "outputs": [
    {
     "name": "stdout",
     "output_type": "stream",
     "text": [
      "enter a number:0.25\n",
      "low = 0.25 high = 1\n",
      "low = 0.25 high = 0.625\n",
      "low = 0.4375 high = 0.625\n",
      "low = 0.4375 high = 0.53125\n",
      "low = 0.484375 high = 0.53125\n",
      "low = 0.484375 high = 0.5078125\n",
      "low = 0.49609375 high = 0.5078125\n",
      "low = 0.49609375 high = 0.501953125\n",
      "low = 0.4990234375 high = 0.501953125\n",
      "low = 0.4990234375 high = 0.50048828125\n",
      "low = 0.499755859375 high = 0.50048828125\n",
      "low = 0.499755859375 high = 0.5001220703125\n",
      "low = 0.49993896484375 high = 0.5001220703125\n",
      "low = 0.49993896484375 high = 0.500030517578125\n",
      "low = 0.4999847412109375 high = 0.500030517578125\n",
      "low = 0.4999847412109375 high = 0.5000076293945312\n",
      "number of guesses = 16\n",
      "0.5000019073486328 is close to square root of 0.25\n"
     ]
    }
   ],
   "source": [
    "### [Please put your name here]\n",
    "## Please fix the code in this cell (that is don't make a new cell)\n",
    "## Bisection Search to Find a Square Root\n",
    "\n",
    "x = float(input(\"enter a number:\"))\n",
    "epsilon = 0.00001\n",
    "num_guesses = 0\n",
    "if x >=1:\n",
    "    low = 0.0\n",
    "    high = x\n",
    "    ans = (high + low)/2.0\n",
    "    while high - low >= 2 * epsilon:\n",
    "        print(\"low =\",low,\"high =\", high)\n",
    "        num_guesses += 1\n",
    "        if ans ** 2 < x:\n",
    "            low = ans\n",
    "        else:\n",
    "            high = ans\n",
    "        ans = (high + low)/2.0\n",
    "elif x >0:\n",
    "    low = x\n",
    "    high = 1\n",
    "    ans = (high + low)/2.0\n",
    "    while high - low >= 2 * epsilon:\n",
    "        print(\"low =\", low, \"high =\", high)\n",
    "        num_guesses += 1\n",
    "        if ans ** 2 > x:\n",
    "            high = ans\n",
    "        else: \n",
    "            low = ans\n",
    "        ans = (high + low)/2.0\n",
    "        \n",
    "else:\n",
    "    print(\"please enter a positive number\")\n",
    "    \n",
    "print('number of guesses =', num_guesses)\n",
    "print(ans, 'is close to square root of', x)"
   ]
  },
  {
   "cell_type": "markdown",
   "metadata": {},
   "source": [
    "### 4-2-2. Bisection Search Runtime\n",
    "\n",
    "The bisection search algorithm will find the square root of x to a precision of epsilon.  Derive a formula for how many loop iterations $n$ it takes for the algorithm to complete. \n",
    "Hints: \n",
    "- First suppose that x has the special value $epsilon * 2^n$, where n is an integer number of loops. Write your answer below.\n",
    "- Your answer should include those three variables $x, epsilon, n$ with the format $n = (answer)$"
   ]
  },
  {
   "cell_type": "markdown",
   "metadata": {},
   "source": [
    "**[Type your answer here]** \n",
    "#### when x>1, n = log2[x/(2epsilon)]\n",
    "#### when 0< x <=1, n=log2[(1-x)/epsilon]"
   ]
  },
  {
   "cell_type": "markdown",
   "metadata": {},
   "source": [
    "### 4-2-3. Explaining the Bisection Search\n",
    "\n",
    "Please answer the following questions as a short answer discussion not more than 1-2 paragraphs.\n",
    "\n",
    "In your own words, why does the bisection search algorithm for finding square roots work faster on large numbers than the brute force algorithm? Write your answer below."
   ]
  },
  {
   "cell_type": "markdown",
   "metadata": {},
   "source": [
    "**[Type your answer here]**\n",
    "#### Bisection search algorithm cuts the problem into the half after every iteration. It is obviously much faster than brute force algorithm, which tries all the possible values and test them."
   ]
  },
  {
   "cell_type": "markdown",
   "metadata": {},
   "source": [
    "In your own words, why does Newton's method for finding square roots outperform both the brute force and the bisection search algorithms? Write your answer below."
   ]
  },
  {
   "cell_type": "markdown",
   "metadata": {},
   "source": [
    "**[Type your answer here]**\n",
    "#### Newton’s method theoretically converges faster on a good neighborhood than bisection and brute force. It's fixed point iteration.  If a fixed point iteration is converging, we can know when to start over and pick a different initial guess."
   ]
  },
  {
   "cell_type": "markdown",
   "metadata": {},
   "source": [
    "### 4-2-4. Following Pseudo-code for an Algorithm\n",
    "\n",
    "Implement this digit-by-digit algorithm to find the square root of $x$ to a precision of epsilon.\n",
    "  1. Begin with a step of 1 and guess of zero.\n",
    "  2. Increase the guess by the step as long as doing so would not cause the guess$^2$ to exceed $x$. Repeat this until the next step will cause guess$^2$ to exceed $x$.\n",
    "  3. If the step is greater than epsilon, then divide the step by 10 and go back to step 2.\n",
    "\n",
    "Notice that once a digit has been found, it is not changed again.  Try using your script to find the square root of 10 to an epsilon of 10 decimal places.  This algorithm should not take over 30 seconds to run (if it does you have coded something incorrectly!)\n",
    "\n",
    "Hint: It might be helpful to write out by hand an easier example like '4' to understand how the algorithm works.\n",
    "\n",
    "Example output:\n",
    "\n",
    "```\n",
    "Enter a number to find the square root: 10\n",
    "The square root of 10 is 3.1622776601.\n",
    "```"
   ]
  },
  {
   "cell_type": "code",
   "execution_count": 109,
   "metadata": {},
   "outputs": [
    {
     "name": "stdout",
     "output_type": "stream",
     "text": [
      "enter a number to find the square root:10\n",
      "The square root of  10.0 is 3.1622776602\n"
     ]
    }
   ],
   "source": [
    "x = float(input(\"enter a number to find the square root:\"))\n",
    "epsilon = 1e-10\n",
    "step = 1\n",
    "guess = 0\n",
    "\n",
    "\n",
    "\n",
    "while True:\n",
    "#     print(guess)\n",
    "    while guess * guess < x:\n",
    "#         print(guess, step)\n",
    "        guess += step\n",
    "    if guess * guess == x:\n",
    "        print(\"re:\", guess)\n",
    "        break\n",
    "    elif epsilon < step:\n",
    "        guess -= step\n",
    "        step /= 10.0\n",
    "    else:\n",
    "        print(\"The square root of \", x, \"is %.10f\"%guess)\n",
    "        break\n",
    "        \n",
    "    \n"
   ]
  },
  {
   "cell_type": "markdown",
   "metadata": {},
   "source": [
    "## 4-3. List Comprehensions\n",
    "\n",
    "Each list comprehension below can be done in just one line/statement and needs to output one list. \n",
    "\n",
    "**4-3-1. Use a single comprehension** to make a list of the square numbers below 100 that give a remainder of 1 when divided by 3.\n",
    "\n",
    "Example output (these are the first two elements of the list - obviously not the full list!):\n",
    "```\n",
    "[1, 4, ... ]\n",
    "```"
   ]
  },
  {
   "cell_type": "code",
   "execution_count": 32,
   "metadata": {},
   "outputs": [
    {
     "name": "stdout",
     "output_type": "stream",
     "text": [
      "[1, 4, 7, 10, 13, 16, 19, 22, 25, 28, 31, 34, 37, 40, 43, 46, 49, 52, 55, 58, 61, 64, 67, 70, 73, 76, 79, 82, 85, 88, 91, 94, 97, 100]\n"
     ]
    }
   ],
   "source": [
    "print(list(range(1, 101, 3)))"
   ]
  },
  {
   "cell_type": "markdown",
   "metadata": {},
   "source": [
    "**4-3-2.** A string is defined in the code snippet below. **Use a single comprehension** to make a list of the first letters of each word in the snippet.\n",
    "\n",
    "Example output (these are the first two elements of the list - obviously not the full list!):\n",
    "```\n",
    "['I', 'l', ... ]\n",
    "```"
   ]
  },
  {
   "cell_type": "code",
   "execution_count": 34,
   "metadata": {},
   "outputs": [
    {
     "name": "stdout",
     "output_type": "stream",
     "text": [
      "['I', 'l', 'm', 'l', 'a', 'q', 'm', 'a', 'a', 't', 'N', 'e', 'm', 'n', 't', 'm', 'n', 't', 's', 'n', 'm', 't', 'a', 'a', 't', 'b', 'F', 't', 't', 's', 'o', 'l', 'I', 'f']\n"
     ]
    }
   ],
   "source": [
    "text = \"I live my life a quarter mile at a time. \\\n",
    "Nothing else matters: not the mortgage, not the store, \\\n",
    "not my team and all their bullshit. \\\n",
    "For those ten seconds or less, I’m free.\"\n",
    "# the slashes just mean that the string continues onto the next line\n",
    "# if you print the text, it will make no difference\n",
    "print([ x[0] for x in text.split(\" \")])"
   ]
  },
  {
   "cell_type": "markdown",
   "metadata": {},
   "source": [
    "**4-3-3.** A Pythagorean triple is a set (x,y,z), with positive integers x ≤ y ≤ z such that $x^2+y^2=z^2$. **Use a single comprehension** to make a list of all Pythagorean triples with numbers below 25.\n",
    "\n",
    "Example output (these are the first two elements of the list - obviously not the full list!):\n",
    "```\n",
    "[(3, 4, 5), (5, 12, 13), ... ]\n",
    "```"
   ]
  },
  {
   "cell_type": "code",
   "execution_count": 47,
   "metadata": {},
   "outputs": [
    {
     "name": "stdout",
     "output_type": "stream",
     "text": [
      "[(3, 4, 5), (5, 12, 13), (6, 8, 10), (8, 15, 17), (9, 12, 15), (12, 16, 20)]\n"
     ]
    }
   ],
   "source": [
    "# for i in range(1,25):\n",
    "#     for j in range(i, 25):\n",
    "#         for k in range(j, 25):\n",
    "#             if i*i + j*j == k*k:\n",
    "#                 print(i,j,k)\n",
    "\n",
    "print([(i,j,k) for i in range(1, 25) for j in range(i, 25) for k in range(j, 25) if i*i + j*j == k*k ])"
   ]
  },
  {
   "cell_type": "markdown",
   "metadata": {},
   "source": [
    "**4-3-4.** Given a word, provided below, **use a single comprehension** to make a list of all strings that can be formed by deleting exactly one character from the word.\n",
    "\n",
    "Required output:\n",
    "```\n",
    "['elcomed', 'Wlcomed', 'Wecomed', 'Welomed', 'Welcmed', 'Welcoed', 'Welcomd', 'Welcome']\n",
    "```"
   ]
  },
  {
   "cell_type": "code",
   "execution_count": 60,
   "metadata": {},
   "outputs": [
    {
     "name": "stdout",
     "output_type": "stream",
     "text": [
      "['elcomed', 'Wlcomed', 'Wecomed', 'Welomed', 'Welcmed', 'Welcoed', 'Welcomd', 'Welcome']\n"
     ]
    }
   ],
   "source": [
    "word = \"Welcomed\"\n",
    "\n",
    "print([ \"\".join(word[:i]+word[i+1:]) for i in range(len(word)) ])"
   ]
  },
  {
   "cell_type": "markdown",
   "metadata": {},
   "source": [
    "**4-3-5.** Given a word, provided below, **use a single comprehension** to make a list of all strings that can be formed by replacing exactly one vowel in the word with a different vowel.\n",
    "\n",
    "Required output:\n",
    "```\n",
    "['Baoted', 'Beoted', 'Bioted', 'Booted', 'Buoted', 'Boated', 'Boeted', 'Boited', 'Booted', 'Bouted', 'Bootad', 'Booted', 'Bootid', 'Bootod', 'Bootud']\n",
    "```"
   ]
  },
  {
   "cell_type": "code",
   "execution_count": 70,
   "metadata": {},
   "outputs": [
    {
     "name": "stdout",
     "output_type": "stream",
     "text": [
      "['Baoted', 'Beoted', 'Bioted', 'Booted', 'Buoted', 'Boated', 'Boeted', 'Boited', 'Booted', 'Bouted', 'Bootad', 'Booted', 'Bootid', 'Bootod', 'Bootud']\n"
     ]
    }
   ],
   "source": [
    "word = \"Booted\"\n",
    "# word = list(word)\n",
    "voew = [\"a\",\"e\",\"i\",\"o\",\"u\"]\n",
    "# for i in range(len(word)):\n",
    "#     if word[i] in voew:\n",
    "#         for r in voew:\n",
    "#             print(word[:i]+r+word[i+1:])\n",
    "\n",
    "print([word[:i]+r+word[i+1:] for i in range(len(word)) if word[i] in voew for r in voew ])"
   ]
  },
  {
   "cell_type": "markdown",
   "metadata": {},
   "source": [
    "## If you have feedback for this homework, please submit it using the link below:\n",
    "\n",
    "http://goo.gl/forms/74yCiQTf6k"
   ]
  }
 ],
 "metadata": {
  "kernelspec": {
   "display_name": "Python 3",
   "language": "python",
   "name": "python3"
  },
  "language_info": {
   "codemirror_mode": {
    "name": "ipython",
    "version": 3
   },
   "file_extension": ".py",
   "mimetype": "text/x-python",
   "name": "python",
   "nbconvert_exporter": "python",
   "pygments_lexer": "ipython3",
   "version": "3.6.3"
  }
 },
 "nbformat": 4,
 "nbformat_minor": 1
}
