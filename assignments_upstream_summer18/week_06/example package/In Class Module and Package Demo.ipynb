{
 "cells": [
  {
   "cell_type": "markdown",
   "metadata": {},
   "source": [
    "### Module Demo"
   ]
  },
  {
   "cell_type": "code",
   "execution_count": 1,
   "metadata": {},
   "outputs": [
    {
     "name": "stdout",
     "output_type": "stream",
     "text": [
      " Volume in drive C is Local Disk\n",
      " Volume Serial Number is 5EF7-263D\n",
      "\n",
      " Directory of C:\\Users\\Christopher Llop\\Documents\\w200\\assignments_upstream_summer18\\week_06\\example package\n",
      "\n",
      "06/12/2018  07:52 PM    <DIR>          .\n",
      "06/12/2018  07:52 PM    <DIR>          ..\n",
      "06/12/2018  07:52 PM    <DIR>          .ipynb_checkpoints\n",
      "03/20/2018  05:58 PM             7,769 In Class Module and Package Demo.ipynb\n",
      "03/20/2018  05:58 PM                29 piggy.py\n",
      "06/12/2018  07:53 PM    <DIR>          piggy_package\n",
      "               2 File(s)          7,798 bytes\n",
      "               4 Dir(s)  136,687,566,848 bytes free\n"
     ]
    }
   ],
   "source": [
    "% ls"
   ]
  },
  {
   "cell_type": "code",
   "execution_count": 3,
   "metadata": {},
   "outputs": [
    {
     "name": "stdout",
     "output_type": "stream",
     "text": [
      "__init__.py\n",
      "pigs_dancing.py\n",
      "pigs_marching.py\n"
     ]
    }
   ],
   "source": [
    "!ls piggy_package"
   ]
  },
  {
   "cell_type": "code",
   "execution_count": null,
   "metadata": {
    "collapsed": true
   },
   "outputs": [],
   "source": []
  },
  {
   "cell_type": "code",
   "execution_count": 4,
   "metadata": {
    "collapsed": true
   },
   "outputs": [],
   "source": [
    "import piggy"
   ]
  },
  {
   "cell_type": "code",
   "execution_count": 5,
   "metadata": {},
   "outputs": [
    {
     "name": "stdout",
     "output_type": "stream",
     "text": [
      "Oink!!\n"
     ]
    }
   ],
   "source": [
    "piggy.oink()"
   ]
  },
  {
   "cell_type": "code",
   "execution_count": 6,
   "metadata": {
    "collapsed": true
   },
   "outputs": [],
   "source": [
    "from piggy import oink"
   ]
  },
  {
   "cell_type": "code",
   "execution_count": 7,
   "metadata": {},
   "outputs": [
    {
     "name": "stdout",
     "output_type": "stream",
     "text": [
      "Oink!!\n"
     ]
    }
   ],
   "source": [
    "oink()"
   ]
  },
  {
   "cell_type": "code",
   "execution_count": 8,
   "metadata": {
    "collapsed": true
   },
   "outputs": [],
   "source": [
    "from piggy import oink as moo"
   ]
  },
  {
   "cell_type": "code",
   "execution_count": 9,
   "metadata": {},
   "outputs": [
    {
     "name": "stdout",
     "output_type": "stream",
     "text": [
      "Oink!!\n"
     ]
    }
   ],
   "source": [
    "moo()"
   ]
  },
  {
   "cell_type": "markdown",
   "metadata": {},
   "source": [
    "### Package Demo"
   ]
  },
  {
   "cell_type": "code",
   "execution_count": 16,
   "metadata": {
    "collapsed": true
   },
   "outputs": [],
   "source": [
    "import piggy_package "
   ]
  },
  {
   "cell_type": "code",
   "execution_count": 17,
   "metadata": {},
   "outputs": [
    {
     "name": "stdout",
     "output_type": "stream",
     "text": [
      "Help on package piggy_package:\n",
      "\n",
      "NAME\n",
      "    piggy_package\n",
      "\n",
      "PACKAGE CONTENTS\n",
      "    pigs_dancing\n",
      "    pigs_marching\n",
      "\n",
      "FILE\n",
      "    c:\\users\\christopher llop\\documents\\w200\\assignments_upstream_summer18\\week_06\\example package\\piggy_package\\__init__.py\n",
      "\n",
      "\n"
     ]
    }
   ],
   "source": [
    "help(piggy_package)"
   ]
  },
  {
   "cell_type": "code",
   "execution_count": 18,
   "metadata": {},
   "outputs": [
    {
     "ename": "NameError",
     "evalue": "name 'pigs_dancing' is not defined",
     "output_type": "error",
     "traceback": [
      "\u001b[1;31m---------------------------------------------------------------------------\u001b[0m",
      "\u001b[1;31mNameError\u001b[0m                                 Traceback (most recent call last)",
      "\u001b[1;32m<ipython-input-18-5cd737396a99>\u001b[0m in \u001b[0;36m<module>\u001b[1;34m()\u001b[0m\n\u001b[1;32m----> 1\u001b[1;33m \u001b[0mpigs_dancing\u001b[0m\u001b[1;33m.\u001b[0m\u001b[0mdance\u001b[0m\u001b[1;33m(\u001b[0m\u001b[1;33m)\u001b[0m\u001b[1;33m\u001b[0m\u001b[0m\n\u001b[0m",
      "\u001b[1;31mNameError\u001b[0m: name 'pigs_dancing' is not defined"
     ]
    }
   ],
   "source": [
    "pigs_dancing.dance()"
   ]
  },
  {
   "cell_type": "code",
   "execution_count": 19,
   "metadata": {
    "collapsed": true
   },
   "outputs": [],
   "source": [
    "from piggy_package import pigs_dancing, pigs_marching"
   ]
  },
  {
   "cell_type": "code",
   "execution_count": 20,
   "metadata": {},
   "outputs": [
    {
     "name": "stdout",
     "output_type": "stream",
     "text": [
      "Help on module piggy_package.pigs_dancing in piggy_package:\n",
      "\n",
      "NAME\n",
      "    piggy_package.pigs_dancing\n",
      "\n",
      "FUNCTIONS\n",
      "    dance()\n",
      "    \n",
      "    jig()\n",
      "\n",
      "FILE\n",
      "    c:\\users\\christopher llop\\documents\\w200\\assignments_upstream_summer18\\week_06\\example package\\piggy_package\\pigs_dancing.py\n",
      "\n",
      "\n"
     ]
    }
   ],
   "source": [
    "help(pigs_dancing)"
   ]
  },
  {
   "cell_type": "code",
   "execution_count": 21,
   "metadata": {},
   "outputs": [
    {
     "name": "stdout",
     "output_type": "stream",
     "text": [
      "Traa la laaa!\n"
     ]
    }
   ],
   "source": [
    "pigs_dancing.dance()"
   ]
  },
  {
   "cell_type": "code",
   "execution_count": 22,
   "metadata": {},
   "outputs": [
    {
     "name": "stdout",
     "output_type": "stream",
     "text": [
      "What do I look like, a human?  Pigs don't jig.\n"
     ]
    }
   ],
   "source": [
    "pigs_dancing.jig()"
   ]
  },
  {
   "cell_type": "code",
   "execution_count": null,
   "metadata": {
    "collapsed": true
   },
   "outputs": [],
   "source": []
  }
 ],
 "metadata": {
  "kernelspec": {
   "display_name": "Python 3",
   "language": "python",
   "name": "python3"
  },
  "language_info": {
   "codemirror_mode": {
    "name": "ipython",
    "version": 3
   },
   "file_extension": ".py",
   "mimetype": "text/x-python",
   "name": "python",
   "nbconvert_exporter": "python",
   "pygments_lexer": "ipython3",
   "version": "3.6.1"
  }
 },
 "nbformat": 4,
 "nbformat_minor": 1
}
