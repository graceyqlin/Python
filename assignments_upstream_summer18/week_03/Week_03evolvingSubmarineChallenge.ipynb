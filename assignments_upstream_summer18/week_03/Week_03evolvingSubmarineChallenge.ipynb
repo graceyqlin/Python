{
 "cells": [
  {
   "cell_type": "markdown",
   "metadata": {},
   "source": [
    "MIDS W200 multi-week exercise"
   ]
  },
  {
   "cell_type": "markdown",
   "metadata": {
    "hideCode": true,
    "hidePrompt": false
   },
   "source": [
    "### Code up a submarine (military scientific or recreational) using what you learned up to this week\n",
    "\n",
    "here are some ideas:\n",
    "\n",
    "you can make it a .py file because that can easily be launched by the command line or another program\n",
    "\n",
    "you can make it interacive by making it ask for an input\n",
    "\n",
    "it can store data by building a list\n",
    "\n",
    "you can keep track its location with a tuple \n",
    "\n",
    "you can keep store and expend torpedoes by initializing a list and poping off torpedoes as they are used.\n",
    "\n",
    "### for extra fun code up a kraken!"
   ]
  },
  {
   "cell_type": "markdown",
   "metadata": {},
   "source": []
  }
 ],
 "metadata": {
  "kernelspec": {
   "display_name": "Python 3",
   "language": "python",
   "name": "python3"
  },
  "language_info": {
   "codemirror_mode": {
    "name": "ipython",
    "version": 3
   },
   "file_extension": ".py",
   "mimetype": "text/x-python",
   "name": "python",
   "nbconvert_exporter": "python",
   "pygments_lexer": "ipython3",
   "version": "3.6.1"
  }
 },
 "nbformat": 4,
 "nbformat_minor": 2
}
